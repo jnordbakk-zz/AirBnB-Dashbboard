{
 "cells": [
  {
   "cell_type": "code",
   "execution_count": 53,
   "metadata": {},
   "outputs": [],
   "source": [
    "import os\n",
    "import pandas as pd"
   ]
  },
  {
   "cell_type": "code",
   "execution_count": 60,
   "metadata": {},
   "outputs": [],
   "source": [
    "listings_file = os.path.join('../static/Data','calendar.csv')"
   ]
  },
  {
   "cell_type": "code",
   "execution_count": 61,
   "metadata": {},
   "outputs": [],
   "source": [
    "raw_listings_df = pd.read_csv(listings_file, encoding=\"ISO-8859-1\")"
   ]
  },
  {
   "cell_type": "code",
   "execution_count": 62,
   "metadata": {},
   "outputs": [
    {
     "name": "stdout",
     "output_type": "stream",
     "text": [
      "   listing_id        date available price\n",
      "0         958  2019-08-05         f   NaN\n",
      "1         958  2019-08-04         f   NaN\n",
      "2         958  2019-08-03         f   NaN\n",
      "3         958  2019-08-02         f   NaN\n",
      "4         958  2019-08-01         f   NaN\n"
     ]
    }
   ],
   "source": [
    "print(raw_listings_df.head())"
   ]
  },
  {
   "cell_type": "code",
   "execution_count": 63,
   "metadata": {},
   "outputs": [
    {
     "data": {
      "text/html": [
       "<div>\n",
       "<style scoped>\n",
       "    .dataframe tbody tr th:only-of-type {\n",
       "        vertical-align: middle;\n",
       "    }\n",
       "\n",
       "    .dataframe tbody tr th {\n",
       "        vertical-align: top;\n",
       "    }\n",
       "\n",
       "    .dataframe thead th {\n",
       "        text-align: right;\n",
       "    }\n",
       "</style>\n",
       "<table border=\"1\" class=\"dataframe\">\n",
       "  <thead>\n",
       "    <tr style=\"text-align: right;\">\n",
       "      <th></th>\n",
       "      <th></th>\n",
       "      <th>listing_id</th>\n",
       "      <th>price</th>\n",
       "    </tr>\n",
       "    <tr>\n",
       "      <th>date</th>\n",
       "      <th>available</th>\n",
       "      <th></th>\n",
       "      <th></th>\n",
       "    </tr>\n",
       "  </thead>\n",
       "  <tbody>\n",
       "    <tr>\n",
       "      <th rowspan=\"2\" valign=\"top\">2018-08-06</th>\n",
       "      <th>f</th>\n",
       "      <td>6051</td>\n",
       "      <td>0</td>\n",
       "    </tr>\n",
       "    <tr>\n",
       "      <th>t</th>\n",
       "      <td>581</td>\n",
       "      <td>581</td>\n",
       "    </tr>\n",
       "    <tr>\n",
       "      <th rowspan=\"2\" valign=\"top\">2018-08-07</th>\n",
       "      <th>f</th>\n",
       "      <td>5872</td>\n",
       "      <td>0</td>\n",
       "    </tr>\n",
       "    <tr>\n",
       "      <th>t</th>\n",
       "      <td>760</td>\n",
       "      <td>760</td>\n",
       "    </tr>\n",
       "    <tr>\n",
       "      <th>2018-08-08</th>\n",
       "      <th>f</th>\n",
       "      <td>5810</td>\n",
       "      <td>0</td>\n",
       "    </tr>\n",
       "  </tbody>\n",
       "</table>\n",
       "</div>"
      ],
      "text/plain": [
       "                      listing_id  price\n",
       "date       available                   \n",
       "2018-08-06 f                6051      0\n",
       "           t                 581    581\n",
       "2018-08-07 f                5872      0\n",
       "           t                 760    760\n",
       "2018-08-08 f                5810      0"
      ]
     },
     "execution_count": 63,
     "metadata": {},
     "output_type": "execute_result"
    }
   ],
   "source": [
    "grouped = raw_listings_df.groupby(['date','available']).count()\n",
    "grouped.head()"
   ]
  },
  {
   "cell_type": "code",
   "execution_count": 64,
   "metadata": {},
   "outputs": [
    {
     "data": {
      "text/html": [
       "<div>\n",
       "<style scoped>\n",
       "    .dataframe tbody tr th:only-of-type {\n",
       "        vertical-align: middle;\n",
       "    }\n",
       "\n",
       "    .dataframe tbody tr th {\n",
       "        vertical-align: top;\n",
       "    }\n",
       "\n",
       "    .dataframe thead th {\n",
       "        text-align: right;\n",
       "    }\n",
       "</style>\n",
       "<table border=\"1\" class=\"dataframe\">\n",
       "  <thead>\n",
       "    <tr style=\"text-align: right;\">\n",
       "      <th></th>\n",
       "      <th></th>\n",
       "      <th>listing_id</th>\n",
       "    </tr>\n",
       "    <tr>\n",
       "      <th>date</th>\n",
       "      <th>available</th>\n",
       "      <th></th>\n",
       "    </tr>\n",
       "  </thead>\n",
       "  <tbody>\n",
       "    <tr>\n",
       "      <th rowspan=\"2\" valign=\"top\">2018-08-06</th>\n",
       "      <th>f</th>\n",
       "      <td>6051</td>\n",
       "    </tr>\n",
       "    <tr>\n",
       "      <th>t</th>\n",
       "      <td>581</td>\n",
       "    </tr>\n",
       "    <tr>\n",
       "      <th rowspan=\"2\" valign=\"top\">2018-08-07</th>\n",
       "      <th>f</th>\n",
       "      <td>5872</td>\n",
       "    </tr>\n",
       "    <tr>\n",
       "      <th>t</th>\n",
       "      <td>760</td>\n",
       "    </tr>\n",
       "    <tr>\n",
       "      <th>2018-08-08</th>\n",
       "      <th>f</th>\n",
       "      <td>5810</td>\n",
       "    </tr>\n",
       "  </tbody>\n",
       "</table>\n",
       "</div>"
      ],
      "text/plain": [
       "                      listing_id\n",
       "date       available            \n",
       "2018-08-06 f                6051\n",
       "           t                 581\n",
       "2018-08-07 f                5872\n",
       "           t                 760\n",
       "2018-08-08 f                5810"
      ]
     },
     "execution_count": 64,
     "metadata": {},
     "output_type": "execute_result"
    }
   ],
   "source": [
    "#grouped.reset_index()\n",
    "grouped = grouped.drop(labels='price', axis=1)\n",
    "\n",
    "grouped.head()"
   ]
  },
  {
   "cell_type": "code",
   "execution_count": 65,
   "metadata": {},
   "outputs": [
    {
     "data": {
      "text/html": [
       "<div>\n",
       "<style scoped>\n",
       "    .dataframe tbody tr th:only-of-type {\n",
       "        vertical-align: middle;\n",
       "    }\n",
       "\n",
       "    .dataframe tbody tr th {\n",
       "        vertical-align: top;\n",
       "    }\n",
       "\n",
       "    .dataframe thead th {\n",
       "        text-align: right;\n",
       "    }\n",
       "</style>\n",
       "<table border=\"1\" class=\"dataframe\">\n",
       "  <thead>\n",
       "    <tr style=\"text-align: right;\">\n",
       "      <th></th>\n",
       "      <th>date</th>\n",
       "      <th>available</th>\n",
       "      <th>count</th>\n",
       "    </tr>\n",
       "  </thead>\n",
       "  <tbody>\n",
       "    <tr>\n",
       "      <th>0</th>\n",
       "      <td>2018-08-06</td>\n",
       "      <td>f</td>\n",
       "      <td>6051</td>\n",
       "    </tr>\n",
       "    <tr>\n",
       "      <th>1</th>\n",
       "      <td>2018-08-06</td>\n",
       "      <td>t</td>\n",
       "      <td>581</td>\n",
       "    </tr>\n",
       "    <tr>\n",
       "      <th>2</th>\n",
       "      <td>2018-08-07</td>\n",
       "      <td>f</td>\n",
       "      <td>5872</td>\n",
       "    </tr>\n",
       "    <tr>\n",
       "      <th>3</th>\n",
       "      <td>2018-08-07</td>\n",
       "      <td>t</td>\n",
       "      <td>760</td>\n",
       "    </tr>\n",
       "    <tr>\n",
       "      <th>4</th>\n",
       "      <td>2018-08-08</td>\n",
       "      <td>f</td>\n",
       "      <td>5810</td>\n",
       "    </tr>\n",
       "  </tbody>\n",
       "</table>\n",
       "</div>"
      ],
      "text/plain": [
       "         date available  count\n",
       "0  2018-08-06         f   6051\n",
       "1  2018-08-06         t    581\n",
       "2  2018-08-07         f   5872\n",
       "3  2018-08-07         t    760\n",
       "4  2018-08-08         f   5810"
      ]
     },
     "execution_count": 65,
     "metadata": {},
     "output_type": "execute_result"
    }
   ],
   "source": [
    "grouped = grouped.reset_index()\n",
    "grouped = grouped.rename(columns={'listing_id': 'count'})\n",
    "grouped.head()"
   ]
  },
  {
   "cell_type": "code",
   "execution_count": 52,
   "metadata": {},
   "outputs": [
    {
     "data": {
      "text/plain": [
       "'{\"0\":{\"date\":\"2018-08-06\",\"available\":\"f\",\"count\":6051},\"1\":{\"date\":\"2018-08-06\",\"available\":\"t\",\"count\":581},\"2\":{\"date\":\"2018-08-07\",\"available\":\"f\",\"count\":5872},\"3\":{\"date\":\"2018-08-07\",\"available\":\"t\",\"count\":760},\"4\":{\"date\":\"2018-08-08\",\"available\":\"f\",\"count\":5810},\"5\":{\"date\":\"2018-08-08\",\"available\":\"t\",\"count\":822},\"6\":{\"date\":\"2018-08-09\",\"available\":\"f\",\"count\":5810},\"7\":{\"date\":\"2018-08-09\",\"available\":\"t\",\"count\":822},\"8\":{\"date\":\"2018-08-10\",\"available\":\"f\",\"count\":5900},\"9\":{\"date\":\"2018-08-10\",\"available\":\"t\",\"count\":732},\"10\":{\"date\":\"2018-08-11\",\"available\":\"f\",\"count\":5821},\"11\":{\"date\":\"2018-08-11\",\"available\":\"t\",\"count\":811},\"12\":{\"date\":\"2018-08-12\",\"available\":\"f\",\"count\":5522},\"13\":{\"date\":\"2018-08-12\",\"available\":\"t\",\"count\":1110},\"14\":{\"date\":\"2018-08-13\",\"available\":\"f\",\"count\":5289},\"15\":{\"date\":\"2018-08-13\",\"available\":\"t\",\"count\":1343},\"16\":{\"date\":\"2018-08-14\",\"available\":\"f\",\"count\":5318},\"17\":{\"date\":\"2018-08-14\",\"available\":\"t\",\"count\":1314},\"18\":{\"date\":\"2018-08-15\",\"available\":\"f\",\"count\":5360},\"19\":{\"date\":\"2018-08-15\",\"available\":\"t\",\"count\":1272},\"20\":{\"date\":\"2018-08-16\",\"available\":\"f\",\"count\":5318},\"21\":{\"date\":\"2018-08-16\",\"available\":\"t\",\"count\":1314},\"22\":{\"date\":\"2018-08-17\",\"available\":\"f\",\"count\":5278},\"23\":{\"date\":\"2018-08-17\",\"available\":\"t\",\"count\":1354},\"24\":{\"date\":\"2018-08-18\",\"available\":\"f\",\"count\":5181},\"25\":{\"date\":\"2018-08-18\",\"available\":\"t\",\"count\":1451},\"26\":{\"date\":\"2018-08-19\",\"available\":\"f\",\"count\":4960},\"27\":{\"date\":\"2018-08-19\",\"available\":\"t\",\"count\":1672},\"28\":{\"date\":\"2018-08-20\",\"available\":\"f\",\"count\":4922},\"29\":{\"date\":\"2018-08-20\",\"available\":\"t\",\"count\":1710},\"30\":{\"date\":\"2018-08-21\",\"available\":\"f\",\"count\":4960},\"31\":{\"date\":\"2018-08-21\",\"available\":\"t\",\"count\":1672},\"32\":{\"date\":\"2018-08-22\",\"available\":\"f\",\"count\":4951},\"33\":{\"date\":\"2018-08-22\",\"available\":\"t\",\"count\":1681},\"34\":{\"date\":\"2018-08-23\",\"available\":\"f\",\"count\":4958},\"35\":{\"date\":\"2018-08-23\",\"available\":\"t\",\"count\":1674},\"36\":{\"date\":\"2018-08-24\",\"available\":\"f\",\"count\":4951},\"37\":{\"date\":\"2018-08-24\",\"available\":\"t\",\"count\":1681},\"38\":{\"date\":\"2018-08-25\",\"available\":\"f\",\"count\":4822},\"39\":{\"date\":\"2018-08-25\",\"available\":\"t\",\"count\":1810},\"40\":{\"date\":\"2018-08-26\",\"available\":\"f\",\"count\":4588},\"41\":{\"date\":\"2018-08-26\",\"available\":\"t\",\"count\":2044},\"42\":{\"date\":\"2018-08-27\",\"available\":\"f\",\"count\":4466},\"43\":{\"date\":\"2018-08-27\",\"available\":\"t\",\"count\":2166},\"44\":{\"date\":\"2018-08-28\",\"available\":\"f\",\"count\":4343},\"45\":{\"date\":\"2018-08-28\",\"available\":\"t\",\"count\":2289},\"46\":{\"date\":\"2018-08-29\",\"available\":\"f\",\"count\":4291},\"47\":{\"date\":\"2018-08-29\",\"available\":\"t\",\"count\":2341},\"48\":{\"date\":\"2018-08-30\",\"available\":\"f\",\"count\":4334},\"49\":{\"date\":\"2018-08-30\",\"available\":\"t\",\"count\":2298},\"50\":{\"date\":\"2018-08-31\",\"available\":\"f\",\"count\":4334},\"51\":{\"date\":\"2018-08-31\",\"available\":\"t\",\"count\":2298},\"52\":{\"date\":\"2018-09-01\",\"available\":\"f\",\"count\":4379},\"53\":{\"date\":\"2018-09-01\",\"available\":\"t\",\"count\":2253},\"54\":{\"date\":\"2018-09-02\",\"available\":\"f\",\"count\":4283},\"55\":{\"date\":\"2018-09-02\",\"available\":\"t\",\"count\":2349},\"56\":{\"date\":\"2018-09-03\",\"available\":\"f\",\"count\":4062},\"57\":{\"date\":\"2018-09-03\",\"available\":\"t\",\"count\":2570},\"58\":{\"date\":\"2018-09-04\",\"available\":\"f\",\"count\":4071},\"59\":{\"date\":\"2018-09-04\",\"available\":\"t\",\"count\":2561},\"60\":{\"date\":\"2018-09-05\",\"available\":\"f\",\"count\":4102},\"61\":{\"date\":\"2018-09-05\",\"available\":\"t\",\"count\":2530},\"62\":{\"date\":\"2018-09-06\",\"available\":\"f\",\"count\":4188},\"63\":{\"date\":\"2018-09-06\",\"available\":\"t\",\"count\":2444},\"64\":{\"date\":\"2018-09-07\",\"available\":\"f\",\"count\":4248},\"65\":{\"date\":\"2018-09-07\",\"available\":\"t\",\"count\":2384},\"66\":{\"date\":\"2018-09-08\",\"available\":\"f\",\"count\":4215},\"67\":{\"date\":\"2018-09-08\",\"available\":\"t\",\"count\":2417},\"68\":{\"date\":\"2018-09-09\",\"available\":\"f\",\"count\":4072},\"69\":{\"date\":\"2018-09-09\",\"available\":\"t\",\"count\":2560},\"70\":{\"date\":\"2018-09-10\",\"available\":\"f\",\"count\":4059},\"71\":{\"date\":\"2018-09-10\",\"available\":\"t\",\"count\":2573},\"72\":{\"date\":\"2018-09-11\",\"available\":\"f\",\"count\":4118},\"73\":{\"date\":\"2018-09-11\",\"available\":\"t\",\"count\":2514},\"74\":{\"date\":\"2018-09-12\",\"available\":\"f\",\"count\":4147},\"75\":{\"date\":\"2018-09-12\",\"available\":\"t\",\"count\":2485},\"76\":{\"date\":\"2018-09-13\",\"available\":\"f\",\"count\":4140},\"77\":{\"date\":\"2018-09-13\",\"available\":\"t\",\"count\":2492},\"78\":{\"date\":\"2018-09-14\",\"available\":\"f\",\"count\":4185},\"79\":{\"date\":\"2018-09-14\",\"available\":\"t\",\"count\":2447},\"80\":{\"date\":\"2018-09-15\",\"available\":\"f\",\"count\":4132},\"81\":{\"date\":\"2018-09-15\",\"available\":\"t\",\"count\":2500},\"82\":{\"date\":\"2018-09-16\",\"available\":\"f\",\"count\":3963},\"83\":{\"date\":\"2018-09-16\",\"available\":\"t\",\"count\":2669},\"84\":{\"date\":\"2018-09-17\",\"available\":\"f\",\"count\":3891},\"85\":{\"date\":\"2018-09-17\",\"available\":\"t\",\"count\":2741},\"86\":{\"date\":\"2018-09-18\",\"available\":\"f\",\"count\":3855},\"87\":{\"date\":\"2018-09-18\",\"available\":\"t\",\"count\":2777},\"88\":{\"date\":\"2018-09-19\",\"available\":\"f\",\"count\":3873},\"89\":{\"date\":\"2018-09-19\",\"available\":\"t\",\"count\":2759},\"90\":{\"date\":\"2018-09-20\",\"available\":\"f\",\"count\":3989},\"91\":{\"date\":\"2018-09-20\",\"available\":\"t\",\"count\":2643},\"92\":{\"date\":\"2018-09-21\",\"available\":\"f\",\"count\":3968},\"93\":{\"date\":\"2018-09-21\",\"available\":\"t\",\"count\":2664},\"94\":{\"date\":\"2018-09-22\",\"available\":\"f\",\"count\":4034},\"95\":{\"date\":\"2018-09-22\",\"available\":\"t\",\"count\":2598},\"96\":{\"date\":\"2018-09-23\",\"available\":\"f\",\"count\":4109},\"97\":{\"date\":\"2018-09-23\",\"available\":\"t\",\"count\":2523},\"98\":{\"date\":\"2018-09-24\",\"available\":\"f\",\"count\":4694},\"99\":{\"date\":\"2018-09-24\",\"available\":\"t\",\"count\":1938},\"100\":{\"date\":\"2018-09-25\",\"available\":\"f\",\"count\":4691},\"101\":{\"date\":\"2018-09-25\",\"available\":\"t\",\"count\":1941},\"102\":{\"date\":\"2018-09-26\",\"available\":\"f\",\"count\":4725},\"103\":{\"date\":\"2018-09-26\",\"available\":\"t\",\"count\":1907},\"104\":{\"date\":\"2018-09-27\",\"available\":\"f\",\"count\":4680},\"105\":{\"date\":\"2018-09-27\",\"available\":\"t\",\"count\":1952},\"106\":{\"date\":\"2018-09-28\",\"available\":\"f\",\"count\":4083},\"107\":{\"date\":\"2018-09-28\",\"available\":\"t\",\"count\":2549},\"108\":{\"date\":\"2018-09-29\",\"available\":\"f\",\"count\":3825},\"109\":{\"date\":\"2018-09-29\",\"available\":\"t\",\"count\":2807},\"110\":{\"date\":\"2018-09-30\",\"available\":\"f\",\"count\":3587},\"111\":{\"date\":\"2018-09-30\",\"available\":\"t\",\"count\":3045},\"112\":{\"date\":\"2018-10-01\",\"available\":\"f\",\"count\":3536},\"113\":{\"date\":\"2018-10-01\",\"available\":\"t\",\"count\":3096},\"114\":{\"date\":\"2018-10-02\",\"available\":\"f\",\"count\":3523},\"115\":{\"date\":\"2018-10-02\",\"available\":\"t\",\"count\":3109},\"116\":{\"date\":\"2018-10-03\",\"available\":\"f\",\"count\":3577},\"117\":{\"date\":\"2018-10-03\",\"available\":\"t\",\"count\":3055},\"118\":{\"date\":\"2018-10-04\",\"available\":\"f\",\"count\":3679},\"119\":{\"date\":\"2018-10-04\",\"available\":\"t\",\"count\":2953},\"120\":{\"date\":\"2018-10-05\",\"available\":\"f\",\"count\":3798},\"121\":{\"date\":\"2018-10-05\",\"available\":\"t\",\"count\":2834},\"122\":{\"date\":\"2018-10-06\",\"available\":\"f\",\"count\":3771},\"123\":{\"date\":\"2018-10-06\",\"available\":\"t\",\"count\":2861},\"124\":{\"date\":\"2018-10-07\",\"available\":\"f\",\"count\":3542},\"125\":{\"date\":\"2018-10-07\",\"available\":\"t\",\"count\":3090},\"126\":{\"date\":\"2018-10-08\",\"available\":\"f\",\"count\":3327},\"127\":{\"date\":\"2018-10-08\",\"available\":\"t\",\"count\":3305},\"128\":{\"date\":\"2018-10-09\",\"available\":\"f\",\"count\":3262},\"129\":{\"date\":\"2018-10-09\",\"available\":\"t\",\"count\":3370},\"130\":{\"date\":\"2018-10-10\",\"available\":\"f\",\"count\":3286},\"131\":{\"date\":\"2018-10-10\",\"available\":\"t\",\"count\":3346},\"132\":{\"date\":\"2018-10-11\",\"available\":\"f\",\"count\":3384},\"133\":{\"date\":\"2018-10-11\",\"available\":\"t\",\"count\":3248},\"134\":{\"date\":\"2018-10-12\",\"available\":\"f\",\"count\":3504},\"135\":{\"date\":\"2018-10-12\",\"available\":\"t\",\"count\":3128},\"136\":{\"date\":\"2018-10-13\",\"available\":\"f\",\"count\":3524},\"137\":{\"date\":\"2018-10-13\",\"available\":\"t\",\"count\":3108},\"138\":{\"date\":\"2018-10-14\",\"available\":\"f\",\"count\":3427},\"139\":{\"date\":\"2018-10-14\",\"available\":\"t\",\"count\":3205},\"140\":{\"date\":\"2018-10-15\",\"available\":\"f\",\"count\":3346},\"141\":{\"date\":\"2018-10-15\",\"available\":\"t\",\"count\":3286},\"142\":{\"date\":\"2018-10-16\",\"available\":\"f\",\"count\":3276},\"143\":{\"date\":\"2018-10-16\",\"available\":\"t\",\"count\":3356},\"144\":{\"date\":\"2018-10-17\",\"available\":\"f\",\"count\":3238},\"145\":{\"date\":\"2018-10-17\",\"available\":\"t\",\"count\":3394},\"146\":{\"date\":\"2018-10-18\",\"available\":\"f\",\"count\":3233},\"147\":{\"date\":\"2018-10-18\",\"available\":\"t\",\"count\":3399},\"148\":{\"date\":\"2018-10-19\",\"available\":\"f\",\"count\":3288},\"149\":{\"date\":\"2018-10-19\",\"available\":\"t\",\"count\":3344},\"150\":{\"date\":\"2018-10-20\",\"available\":\"f\",\"count\":3304},\"151\":{\"date\":\"2018-10-20\",\"available\":\"t\",\"count\":3328},\"152\":{\"date\":\"2018-10-21\",\"available\":\"f\",\"count\":3251},\"153\":{\"date\":\"2018-10-21\",\"available\":\"t\",\"count\":3381},\"154\":{\"date\":\"2018-10-22\",\"available\":\"f\",\"count\":3216},\"155\":{\"date\":\"2018-10-22\",\"available\":\"t\",\"count\":3416},\"156\":{\"date\":\"2018-10-23\",\"available\":\"f\",\"count\":3173},\"157\":{\"date\":\"2018-10-23\",\"available\":\"t\",\"count\":3459},\"158\":{\"date\":\"2018-10-24\",\"available\":\"f\",\"count\":3150},\"159\":{\"date\":\"2018-10-24\",\"available\":\"t\",\"count\":3482},\"160\":{\"date\":\"2018-10-25\",\"available\":\"f\",\"count\":3089},\"161\":{\"date\":\"2018-10-25\",\"available\":\"t\",\"count\":3543},\"162\":{\"date\":\"2018-10-26\",\"available\":\"f\",\"count\":3039},\"163\":{\"date\":\"2018-10-26\",\"available\":\"t\",\"count\":3593},\"164\":{\"date\":\"2018-10-27\",\"available\":\"f\",\"count\":2982},\"165\":{\"date\":\"2018-10-27\",\"available\":\"t\",\"count\":3650},\"166\":{\"date\":\"2018-10-28\",\"available\":\"f\",\"count\":2890},\"167\":{\"date\":\"2018-10-28\",\"available\":\"t\",\"count\":3742},\"168\":{\"date\":\"2018-10-29\",\"available\":\"f\",\"count\":2833},\"169\":{\"date\":\"2018-10-29\",\"available\":\"t\",\"count\":3799},\"170\":{\"date\":\"2018-10-30\",\"available\":\"f\",\"count\":2790},\"171\":{\"date\":\"2018-10-30\",\"available\":\"t\",\"count\":3842},\"172\":{\"date\":\"2018-10-31\",\"available\":\"f\",\"count\":2775},\"173\":{\"date\":\"2018-10-31\",\"available\":\"t\",\"count\":3857},\"174\":{\"date\":\"2018-11-01\",\"available\":\"f\",\"count\":2762},\"175\":{\"date\":\"2018-11-01\",\"available\":\"t\",\"count\":3870},\"176\":{\"date\":\"2018-11-02\",\"available\":\"f\",\"count\":2727},\"177\":{\"date\":\"2018-11-02\",\"available\":\"t\",\"count\":3905},\"178\":{\"date\":\"2018-11-03\",\"available\":\"f\",\"count\":2679},\"179\":{\"date\":\"2018-11-03\",\"available\":\"t\",\"count\":3953},\"180\":{\"date\":\"2018-11-04\",\"available\":\"f\",\"count\":3304},\"181\":{\"date\":\"2018-11-04\",\"available\":\"t\",\"count\":3328},\"182\":{\"date\":\"2018-11-05\",\"available\":\"f\",\"count\":3315},\"183\":{\"date\":\"2018-11-05\",\"available\":\"t\",\"count\":3317},\"184\":{\"date\":\"2018-11-06\",\"available\":\"f\",\"count\":3308},\"185\":{\"date\":\"2018-11-06\",\"available\":\"t\",\"count\":3324},\"186\":{\"date\":\"2018-11-07\",\"available\":\"f\",\"count\":3326},\"187\":{\"date\":\"2018-11-07\",\"available\":\"t\",\"count\":3306},\"188\":{\"date\":\"2018-11-08\",\"available\":\"f\",\"count\":3351},\"189\":{\"date\":\"2018-11-08\",\"available\":\"t\",\"count\":3281},\"190\":{\"date\":\"2018-11-09\",\"available\":\"f\",\"count\":3374},\"191\":{\"date\":\"2018-11-09\",\"available\":\"t\",\"count\":3258},\"192\":{\"date\":\"2018-11-10\",\"available\":\"f\",\"count\":3405},\"193\":{\"date\":\"2018-11-10\",\"available\":\"t\",\"count\":3227},\"194\":{\"date\":\"2018-11-11\",\"available\":\"f\",\"count\":3362},\"195\":{\"date\":\"2018-11-11\",\"available\":\"t\",\"count\":3270},\"196\":{\"date\":\"2018-11-12\",\"available\":\"f\",\"count\":3338},\"197\":{\"date\":\"2018-11-12\",\"available\":\"t\",\"count\":3294},\"198\":{\"date\":\"2018-11-13\",\"available\":\"f\",\"count\":3279},\"199\":{\"date\":\"2018-11-13\",\"available\":\"t\",\"count\":3353},\"200\":{\"date\":\"2018-11-14\",\"available\":\"f\",\"count\":3265},\"201\":{\"date\":\"2018-11-14\",\"available\":\"t\",\"count\":3367},\"202\":{\"date\":\"2018-11-15\",\"available\":\"f\",\"count\":3269},\"203\":{\"date\":\"2018-11-15\",\"available\":\"t\",\"count\":3363},\"204\":{\"date\":\"2018-11-16\",\"available\":\"f\",\"count\":3255},\"205\":{\"date\":\"2018-11-16\",\"available\":\"t\",\"count\":3377},\"206\":{\"date\":\"2018-11-17\",\"available\":\"f\",\"count\":3268},\"207\":{\"date\":\"2018-11-17\",\"available\":\"t\",\"count\":3364},\"208\":{\"date\":\"2018-11-18\",\"available\":\"f\",\"count\":3237},\"209\":{\"date\":\"2018-11-18\",\"available\":\"t\",\"count\":3395},\"210\":{\"date\":\"2018-11-19\",\"available\":\"f\",\"count\":3252},\"211\":{\"date\":\"2018-11-19\",\"available\":\"t\",\"count\":3380},\"212\":{\"date\":\"2018-11-20\",\"available\":\"f\",\"count\":3294},\"213\":{\"date\":\"2018-11-20\",\"available\":\"t\",\"count\":3338},\"214\":{\"date\":\"2018-11-21\",\"available\":\"f\",\"count\":3359},\"215\":{\"date\":\"2018-11-21\",\"available\":\"t\",\"count\":3273},\"216\":{\"date\":\"2018-11-22\",\"available\":\"f\",\"count\":3412},\"217\":{\"date\":\"2018-11-22\",\"available\":\"t\",\"count\":3220},\"218\":{\"date\":\"2018-11-23\",\"available\":\"f\",\"count\":3390},\"219\":{\"date\":\"2018-11-23\",\"available\":\"t\",\"count\":3242},\"220\":{\"date\":\"2018-11-24\",\"available\":\"f\",\"count\":3331},\"221\":{\"date\":\"2018-11-24\",\"available\":\"t\",\"count\":3301},\"222\":{\"date\":\"2018-11-25\",\"available\":\"f\",\"count\":3276},\"223\":{\"date\":\"2018-11-25\",\"available\":\"t\",\"count\":3356},\"224\":{\"date\":\"2018-11-26\",\"available\":\"f\",\"count\":3242},\"225\":{\"date\":\"2018-11-26\",\"available\":\"t\",\"count\":3390},\"226\":{\"date\":\"2018-11-27\",\"available\":\"f\",\"count\":3208},\"227\":{\"date\":\"2018-11-27\",\"available\":\"t\",\"count\":3424},\"228\":{\"date\":\"2018-11-28\",\"available\":\"f\",\"count\":3198},\"229\":{\"date\":\"2018-11-28\",\"available\":\"t\",\"count\":3434},\"230\":{\"date\":\"2018-11-29\",\"available\":\"f\",\"count\":3202},\"231\":{\"date\":\"2018-11-29\",\"available\":\"t\",\"count\":3430},\"232\":{\"date\":\"2018-11-30\",\"available\":\"f\",\"count\":3180},\"233\":{\"date\":\"2018-11-30\",\"available\":\"t\",\"count\":3452},\"234\":{\"date\":\"2018-12-01\",\"available\":\"f\",\"count\":3195},\"235\":{\"date\":\"2018-12-01\",\"available\":\"t\",\"count\":3437},\"236\":{\"date\":\"2018-12-02\",\"available\":\"f\",\"count\":3190},\"237\":{\"date\":\"2018-12-02\",\"available\":\"t\",\"count\":3442},\"238\":{\"date\":\"2018-12-03\",\"available\":\"f\",\"count\":3187},\"239\":{\"date\":\"2018-12-03\",\"available\":\"t\",\"count\":3445},\"240\":{\"date\":\"2018-12-04\",\"available\":\"f\",\"count\":3191},\"241\":{\"date\":\"2018-12-04\",\"available\":\"t\",\"count\":3441},\"242\":{\"date\":\"2018-12-05\",\"available\":\"f\",\"count\":3198},\"243\":{\"date\":\"2018-12-05\",\"available\":\"t\",\"count\":3434},\"244\":{\"date\":\"2018-12-06\",\"available\":\"f\",\"count\":3195},\"245\":{\"date\":\"2018-12-06\",\"available\":\"t\",\"count\":3437},\"246\":{\"date\":\"2018-12-07\",\"available\":\"f\",\"count\":3189},\"247\":{\"date\":\"2018-12-07\",\"available\":\"t\",\"count\":3443},\"248\":{\"date\":\"2018-12-08\",\"available\":\"f\",\"count\":3217},\"249\":{\"date\":\"2018-12-08\",\"available\":\"t\",\"count\":3415},\"250\":{\"date\":\"2018-12-09\",\"available\":\"f\",\"count\":3187},\"251\":{\"date\":\"2018-12-09\",\"available\":\"t\",\"count\":3445},\"252\":{\"date\":\"2018-12-10\",\"available\":\"f\",\"count\":3158},\"253\":{\"date\":\"2018-12-10\",\"available\":\"t\",\"count\":3474},\"254\":{\"date\":\"2018-12-11\",\"available\":\"f\",\"count\":3148},\"255\":{\"date\":\"2018-12-11\",\"available\":\"t\",\"count\":3484},\"256\":{\"date\":\"2018-12-12\",\"available\":\"f\",\"count\":3154},\"257\":{\"date\":\"2018-12-12\",\"available\":\"t\",\"count\":3478},\"258\":{\"date\":\"2018-12-13\",\"available\":\"f\",\"count\":3157},\"259\":{\"date\":\"2018-12-13\",\"available\":\"t\",\"count\":3475},\"260\":{\"date\":\"2018-12-14\",\"available\":\"f\",\"count\":3152},\"261\":{\"date\":\"2018-12-14\",\"available\":\"t\",\"count\":3480},\"262\":{\"date\":\"2018-12-15\",\"available\":\"f\",\"count\":3153},\"263\":{\"date\":\"2018-12-15\",\"available\":\"t\",\"count\":3479},\"264\":{\"date\":\"2018-12-16\",\"available\":\"f\",\"count\":3146},\"265\":{\"date\":\"2018-12-16\",\"available\":\"t\",\"count\":3486},\"266\":{\"date\":\"2018-12-17\",\"available\":\"f\",\"count\":3161},\"267\":{\"date\":\"2018-12-17\",\"available\":\"t\",\"count\":3471},\"268\":{\"date\":\"2018-12-18\",\"available\":\"f\",\"count\":3148},\"269\":{\"date\":\"2018-12-18\",\"available\":\"t\",\"count\":3484},\"270\":{\"date\":\"2018-12-19\",\"available\":\"f\",\"count\":3153},\"271\":{\"date\":\"2018-12-19\",\"available\":\"t\",\"count\":3479},\"272\":{\"date\":\"2018-12-20\",\"available\":\"f\",\"count\":3158},\"273\":{\"date\":\"2018-12-20\",\"available\":\"t\",\"count\":3474},\"274\":{\"date\":\"2018-12-21\",\"available\":\"f\",\"count\":3184},\"275\":{\"date\":\"2018-12-21\",\"available\":\"t\",\"count\":3448},\"276\":{\"date\":\"2018-12-22\",\"available\":\"f\",\"count\":3173},\"277\":{\"date\":\"2018-12-22\",\"available\":\"t\",\"count\":3459},\"278\":{\"date\":\"2018-12-23\",\"available\":\"f\",\"count\":3174},\"279\":{\"date\":\"2018-12-23\",\"available\":\"t\",\"count\":3458},\"280\":{\"date\":\"2018-12-24\",\"available\":\"f\",\"count\":3194},\"281\":{\"date\":\"2018-12-24\",\"available\":\"t\",\"count\":3438},\"282\":{\"date\":\"2018-12-25\",\"available\":\"f\",\"count\":3196},\"283\":{\"date\":\"2018-12-25\",\"available\":\"t\",\"count\":3436},\"284\":{\"date\":\"2018-12-26\",\"available\":\"f\",\"count\":3171},\"285\":{\"date\":\"2018-12-26\",\"available\":\"t\",\"count\":3461},\"286\":{\"date\":\"2018-12-27\",\"available\":\"f\",\"count\":3154},\"287\":{\"date\":\"2018-12-27\",\"available\":\"t\",\"count\":3478},\"288\":{\"date\":\"2018-12-28\",\"available\":\"f\",\"count\":3166},\"289\":{\"date\":\"2018-12-28\",\"available\":\"t\",\"count\":3466},\"290\":{\"date\":\"2018-12-29\",\"available\":\"f\",\"count\":3171},\"291\":{\"date\":\"2018-12-29\",\"available\":\"t\",\"count\":3461},\"292\":{\"date\":\"2018-12-30\",\"available\":\"f\",\"count\":3155},\"293\":{\"date\":\"2018-12-30\",\"available\":\"t\",\"count\":3477},\"294\":{\"date\":\"2018-12-31\",\"available\":\"f\",\"count\":3159},\"295\":{\"date\":\"2018-12-31\",\"available\":\"t\",\"count\":3473},\"296\":{\"date\":\"2019-01-01\",\"available\":\"f\",\"count\":3070},\"297\":{\"date\":\"2019-01-01\",\"available\":\"t\",\"count\":3562},\"298\":{\"date\":\"2019-01-02\",\"available\":\"f\",\"count\":3029},\"299\":{\"date\":\"2019-01-02\",\"available\":\"t\",\"count\":3603},\"300\":{\"date\":\"2019-01-03\",\"available\":\"f\",\"count\":3019},\"301\":{\"date\":\"2019-01-03\",\"available\":\"t\",\"count\":3613},\"302\":{\"date\":\"2019-01-04\",\"available\":\"f\",\"count\":3040},\"303\":{\"date\":\"2019-01-04\",\"available\":\"t\",\"count\":3592},\"304\":{\"date\":\"2019-01-05\",\"available\":\"f\",\"count\":3083},\"305\":{\"date\":\"2019-01-05\",\"available\":\"t\",\"count\":3549},\"306\":{\"date\":\"2019-01-06\",\"available\":\"f\",\"count\":3155},\"307\":{\"date\":\"2019-01-06\",\"available\":\"t\",\"count\":3477},\"308\":{\"date\":\"2019-01-07\",\"available\":\"f\",\"count\":3192},\"309\":{\"date\":\"2019-01-07\",\"available\":\"t\",\"count\":3440},\"310\":{\"date\":\"2019-01-08\",\"available\":\"f\",\"count\":3174},\"311\":{\"date\":\"2019-01-08\",\"available\":\"t\",\"count\":3458},\"312\":{\"date\":\"2019-01-09\",\"available\":\"f\",\"count\":3132},\"313\":{\"date\":\"2019-01-09\",\"available\":\"t\",\"count\":3500},\"314\":{\"date\":\"2019-01-10\",\"available\":\"f\",\"count\":3049},\"315\":{\"date\":\"2019-01-10\",\"available\":\"t\",\"count\":3583},\"316\":{\"date\":\"2019-01-11\",\"available\":\"f\",\"count\":2982},\"317\":{\"date\":\"2019-01-11\",\"available\":\"t\",\"count\":3650},\"318\":{\"date\":\"2019-01-12\",\"available\":\"f\",\"count\":2973},\"319\":{\"date\":\"2019-01-12\",\"available\":\"t\",\"count\":3659},\"320\":{\"date\":\"2019-01-13\",\"available\":\"f\",\"count\":2962},\"321\":{\"date\":\"2019-01-13\",\"available\":\"t\",\"count\":3670},\"322\":{\"date\":\"2019-01-14\",\"available\":\"f\",\"count\":2943},\"323\":{\"date\":\"2019-01-14\",\"available\":\"t\",\"count\":3689},\"324\":{\"date\":\"2019-01-15\",\"available\":\"f\",\"count\":2926},\"325\":{\"date\":\"2019-01-15\",\"available\":\"t\",\"count\":3706},\"326\":{\"date\":\"2019-01-16\",\"available\":\"f\",\"count\":2918},\"327\":{\"date\":\"2019-01-16\",\"available\":\"t\",\"count\":3714},\"328\":{\"date\":\"2019-01-17\",\"available\":\"f\",\"count\":2910},\"329\":{\"date\":\"2019-01-17\",\"available\":\"t\",\"count\":3722},\"330\":{\"date\":\"2019-01-18\",\"available\":\"f\",\"count\":2899},\"331\":{\"date\":\"2019-01-18\",\"available\":\"t\",\"count\":3733},\"332\":{\"date\":\"2019-01-19\",\"available\":\"f\",\"count\":2897},\"333\":{\"date\":\"2019-01-19\",\"available\":\"t\",\"count\":3735},\"334\":{\"date\":\"2019-01-20\",\"available\":\"f\",\"count\":2893},\"335\":{\"date\":\"2019-01-20\",\"available\":\"t\",\"count\":3739},\"336\":{\"date\":\"2019-01-21\",\"available\":\"f\",\"count\":2886},\"337\":{\"date\":\"2019-01-21\",\"available\":\"t\",\"count\":3746},\"338\":{\"date\":\"2019-01-22\",\"available\":\"f\",\"count\":2882},\"339\":{\"date\":\"2019-01-22\",\"available\":\"t\",\"count\":3750},\"340\":{\"date\":\"2019-01-23\",\"available\":\"f\",\"count\":2887},\"341\":{\"date\":\"2019-01-23\",\"available\":\"t\",\"count\":3745},\"342\":{\"date\":\"2019-01-24\",\"available\":\"f\",\"count\":2893},\"343\":{\"date\":\"2019-01-24\",\"available\":\"t\",\"count\":3739},\"344\":{\"date\":\"2019-01-25\",\"available\":\"f\",\"count\":2878},\"345\":{\"date\":\"2019-01-25\",\"available\":\"t\",\"count\":3754},\"346\":{\"date\":\"2019-01-26\",\"available\":\"f\",\"count\":2881},\"347\":{\"date\":\"2019-01-26\",\"available\":\"t\",\"count\":3751},\"348\":{\"date\":\"2019-01-27\",\"available\":\"f\",\"count\":2876},\"349\":{\"date\":\"2019-01-27\",\"available\":\"t\",\"count\":3756},\"350\":{\"date\":\"2019-01-28\",\"available\":\"f\",\"count\":2862},\"351\":{\"date\":\"2019-01-28\",\"available\":\"t\",\"count\":3770},\"352\":{\"date\":\"2019-01-29\",\"available\":\"f\",\"count\":2862},\"353\":{\"date\":\"2019-01-29\",\"available\":\"t\",\"count\":3770},\"354\":{\"date\":\"2019-01-30\",\"available\":\"f\",\"count\":2860},\"355\":{\"date\":\"2019-01-30\",\"available\":\"t\",\"count\":3772},\"356\":{\"date\":\"2019-01-31\",\"available\":\"f\",\"count\":2852},\"357\":{\"date\":\"2019-01-31\",\"available\":\"t\",\"count\":3780},\"358\":{\"date\":\"2019-02-01\",\"available\":\"f\",\"count\":2828},\"359\":{\"date\":\"2019-02-01\",\"available\":\"t\",\"count\":3804},\"360\":{\"date\":\"2019-02-02\",\"available\":\"f\",\"count\":3758},\"361\":{\"date\":\"2019-02-02\",\"available\":\"t\",\"count\":2874},\"362\":{\"date\":\"2019-02-03\",\"available\":\"f\",\"count\":3752},\"363\":{\"date\":\"2019-02-03\",\"available\":\"t\",\"count\":2880},\"364\":{\"date\":\"2019-02-04\",\"available\":\"f\",\"count\":3748},\"365\":{\"date\":\"2019-02-04\",\"available\":\"t\",\"count\":2884},\"366\":{\"date\":\"2019-02-05\",\"available\":\"f\",\"count\":3744},\"367\":{\"date\":\"2019-02-05\",\"available\":\"t\",\"count\":2888},\"368\":{\"date\":\"2019-02-06\",\"available\":\"f\",\"count\":3739},\"369\":{\"date\":\"2019-02-06\",\"available\":\"t\",\"count\":2893},\"370\":{\"date\":\"2019-02-07\",\"available\":\"f\",\"count\":3734},\"371\":{\"date\":\"2019-02-07\",\"available\":\"t\",\"count\":2898},\"372\":{\"date\":\"2019-02-08\",\"available\":\"f\",\"count\":3728},\"373\":{\"date\":\"2019-02-08\",\"available\":\"t\",\"count\":2904},\"374\":{\"date\":\"2019-02-09\",\"available\":\"f\",\"count\":3732},\"375\":{\"date\":\"2019-02-09\",\"available\":\"t\",\"count\":2900},\"376\":{\"date\":\"2019-02-10\",\"available\":\"f\",\"count\":3730},\"377\":{\"date\":\"2019-02-10\",\"available\":\"t\",\"count\":2902},\"378\":{\"date\":\"2019-02-11\",\"available\":\"f\",\"count\":3730},\"379\":{\"date\":\"2019-02-11\",\"available\":\"t\",\"count\":2902},\"380\":{\"date\":\"2019-02-12\",\"available\":\"f\",\"count\":3732},\"381\":{\"date\":\"2019-02-12\",\"available\":\"t\",\"count\":2900},\"382\":{\"date\":\"2019-02-13\",\"available\":\"f\",\"count\":3729},\"383\":{\"date\":\"2019-02-13\",\"available\":\"t\",\"count\":2903},\"384\":{\"date\":\"2019-02-14\",\"available\":\"f\",\"count\":3731},\"385\":{\"date\":\"2019-02-14\",\"available\":\"t\",\"count\":2901},\"386\":{\"date\":\"2019-02-15\",\"available\":\"f\",\"count\":3719},\"387\":{\"date\":\"2019-02-15\",\"available\":\"t\",\"count\":2913},\"388\":{\"date\":\"2019-02-16\",\"available\":\"f\",\"count\":3716},\"389\":{\"date\":\"2019-02-16\",\"available\":\"t\",\"count\":2916},\"390\":{\"date\":\"2019-02-17\",\"available\":\"f\",\"count\":3709},\"391\":{\"date\":\"2019-02-17\",\"available\":\"t\",\"count\":2923},\"392\":{\"date\":\"2019-02-18\",\"available\":\"f\",\"count\":3699},\"393\":{\"date\":\"2019-02-18\",\"available\":\"t\",\"count\":2933},\"394\":{\"date\":\"2019-02-19\",\"available\":\"f\",\"count\":3707},\"395\":{\"date\":\"2019-02-19\",\"available\":\"t\",\"count\":2925},\"396\":{\"date\":\"2019-02-20\",\"available\":\"f\",\"count\":3710},\"397\":{\"date\":\"2019-02-20\",\"available\":\"t\",\"count\":2922},\"398\":{\"date\":\"2019-02-21\",\"available\":\"f\",\"count\":3711},\"399\":{\"date\":\"2019-02-21\",\"available\":\"t\",\"count\":2921},\"400\":{\"date\":\"2019-02-22\",\"available\":\"f\",\"count\":3703},\"401\":{\"date\":\"2019-02-22\",\"available\":\"t\",\"count\":2929},\"402\":{\"date\":\"2019-02-23\",\"available\":\"f\",\"count\":3706},\"403\":{\"date\":\"2019-02-23\",\"available\":\"t\",\"count\":2926},\"404\":{\"date\":\"2019-02-24\",\"available\":\"f\",\"count\":3706},\"405\":{\"date\":\"2019-02-24\",\"available\":\"t\",\"count\":2926},\"406\":{\"date\":\"2019-02-25\",\"available\":\"f\",\"count\":3725},\"407\":{\"date\":\"2019-02-25\",\"available\":\"t\",\"count\":2907},\"408\":{\"date\":\"2019-02-26\",\"available\":\"f\",\"count\":3728},\"409\":{\"date\":\"2019-02-26\",\"available\":\"t\",\"count\":2904},\"410\":{\"date\":\"2019-02-27\",\"available\":\"f\",\"count\":3731},\"411\":{\"date\":\"2019-02-27\",\"available\":\"t\",\"count\":2901},\"412\":{\"date\":\"2019-02-28\",\"available\":\"f\",\"count\":3728},\"413\":{\"date\":\"2019-02-28\",\"available\":\"t\",\"count\":2904},\"414\":{\"date\":\"2019-03-01\",\"available\":\"f\",\"count\":3720},\"415\":{\"date\":\"2019-03-01\",\"available\":\"t\",\"count\":2912},\"416\":{\"date\":\"2019-03-02\",\"available\":\"f\",\"count\":3722},\"417\":{\"date\":\"2019-03-02\",\"available\":\"t\",\"count\":2910},\"418\":{\"date\":\"2019-03-03\",\"available\":\"f\",\"count\":3720},\"419\":{\"date\":\"2019-03-03\",\"available\":\"t\",\"count\":2912},\"420\":{\"date\":\"2019-03-04\",\"available\":\"f\",\"count\":3704},\"421\":{\"date\":\"2019-03-04\",\"available\":\"t\",\"count\":2928},\"422\":{\"date\":\"2019-03-05\",\"available\":\"f\",\"count\":3709},\"423\":{\"date\":\"2019-03-05\",\"available\":\"t\",\"count\":2923},\"424\":{\"date\":\"2019-03-06\",\"available\":\"f\",\"count\":3709},\"425\":{\"date\":\"2019-03-06\",\"available\":\"t\",\"count\":2923},\"426\":{\"date\":\"2019-03-07\",\"available\":\"f\",\"count\":3702},\"427\":{\"date\":\"2019-03-07\",\"available\":\"t\",\"count\":2930},\"428\":{\"date\":\"2019-03-08\",\"available\":\"f\",\"count\":3699},\"429\":{\"date\":\"2019-03-08\",\"available\":\"t\",\"count\":2933},\"430\":{\"date\":\"2019-03-09\",\"available\":\"f\",\"count\":3701},\"431\":{\"date\":\"2019-03-09\",\"available\":\"t\",\"count\":2931},\"432\":{\"date\":\"2019-03-10\",\"available\":\"f\",\"count\":3701},\"433\":{\"date\":\"2019-03-10\",\"available\":\"t\",\"count\":2931},\"434\":{\"date\":\"2019-03-11\",\"available\":\"f\",\"count\":3700},\"435\":{\"date\":\"2019-03-11\",\"available\":\"t\",\"count\":2932},\"436\":{\"date\":\"2019-03-12\",\"available\":\"f\",\"count\":3702},\"437\":{\"date\":\"2019-03-12\",\"available\":\"t\",\"count\":2930},\"438\":{\"date\":\"2019-03-13\",\"available\":\"f\",\"count\":3702},\"439\":{\"date\":\"2019-03-13\",\"available\":\"t\",\"count\":2930},\"440\":{\"date\":\"2019-03-14\",\"available\":\"f\",\"count\":3705},\"441\":{\"date\":\"2019-03-14\",\"available\":\"t\",\"count\":2927},\"442\":{\"date\":\"2019-03-15\",\"available\":\"f\",\"count\":3700},\"443\":{\"date\":\"2019-03-15\",\"available\":\"t\",\"count\":2932},\"444\":{\"date\":\"2019-03-16\",\"available\":\"f\",\"count\":3700},\"445\":{\"date\":\"2019-03-16\",\"available\":\"t\",\"count\":2932},\"446\":{\"date\":\"2019-03-17\",\"available\":\"f\",\"count\":3701},\"447\":{\"date\":\"2019-03-17\",\"available\":\"t\",\"count\":2931},\"448\":{\"date\":\"2019-03-18\",\"available\":\"f\",\"count\":3702},\"449\":{\"date\":\"2019-03-18\",\"available\":\"t\",\"count\":2930},\"450\":{\"date\":\"2019-03-19\",\"available\":\"f\",\"count\":3708},\"451\":{\"date\":\"2019-03-19\",\"available\":\"t\",\"count\":2924},\"452\":{\"date\":\"2019-03-20\",\"available\":\"f\",\"count\":3709},\"453\":{\"date\":\"2019-03-20\",\"available\":\"t\",\"count\":2923},\"454\":{\"date\":\"2019-03-21\",\"available\":\"f\",\"count\":3700},\"455\":{\"date\":\"2019-03-21\",\"available\":\"t\",\"count\":2932},\"456\":{\"date\":\"2019-03-22\",\"available\":\"f\",\"count\":3694},\"457\":{\"date\":\"2019-03-22\",\"available\":\"t\",\"count\":2938},\"458\":{\"date\":\"2019-03-23\",\"available\":\"f\",\"count\":3687},\"459\":{\"date\":\"2019-03-23\",\"available\":\"t\",\"count\":2945},\"460\":{\"date\":\"2019-03-24\",\"available\":\"f\",\"count\":3680},\"461\":{\"date\":\"2019-03-24\",\"available\":\"t\",\"count\":2952},\"462\":{\"date\":\"2019-03-25\",\"available\":\"f\",\"count\":3689},\"463\":{\"date\":\"2019-03-25\",\"available\":\"t\",\"count\":2943},\"464\":{\"date\":\"2019-03-26\",\"available\":\"f\",\"count\":3685},\"465\":{\"date\":\"2019-03-26\",\"available\":\"t\",\"count\":2947},\"466\":{\"date\":\"2019-03-27\",\"available\":\"f\",\"count\":3683},\"467\":{\"date\":\"2019-03-27\",\"available\":\"t\",\"count\":2949},\"468\":{\"date\":\"2019-03-28\",\"available\":\"f\",\"count\":3681},\"469\":{\"date\":\"2019-03-28\",\"available\":\"t\",\"count\":2951},\"470\":{\"date\":\"2019-03-29\",\"available\":\"f\",\"count\":3677},\"471\":{\"date\":\"2019-03-29\",\"available\":\"t\",\"count\":2955},\"472\":{\"date\":\"2019-03-30\",\"available\":\"f\",\"count\":3681},\"473\":{\"date\":\"2019-03-30\",\"available\":\"t\",\"count\":2951},\"474\":{\"date\":\"2019-03-31\",\"available\":\"f\",\"count\":3678},\"475\":{\"date\":\"2019-03-31\",\"available\":\"t\",\"count\":2954},\"476\":{\"date\":\"2019-04-01\",\"available\":\"f\",\"count\":3684},\"477\":{\"date\":\"2019-04-01\",\"available\":\"t\",\"count\":2948},\"478\":{\"date\":\"2019-04-02\",\"available\":\"f\",\"count\":3692},\"479\":{\"date\":\"2019-04-02\",\"available\":\"t\",\"count\":2940},\"480\":{\"date\":\"2019-04-03\",\"available\":\"f\",\"count\":3697},\"481\":{\"date\":\"2019-04-03\",\"available\":\"t\",\"count\":2935},\"482\":{\"date\":\"2019-04-04\",\"available\":\"f\",\"count\":3694},\"483\":{\"date\":\"2019-04-04\",\"available\":\"t\",\"count\":2938},\"484\":{\"date\":\"2019-04-05\",\"available\":\"f\",\"count\":3688},\"485\":{\"date\":\"2019-04-05\",\"available\":\"t\",\"count\":2944},\"486\":{\"date\":\"2019-04-06\",\"available\":\"f\",\"count\":3683},\"487\":{\"date\":\"2019-04-06\",\"available\":\"t\",\"count\":2949},\"488\":{\"date\":\"2019-04-07\",\"available\":\"f\",\"count\":3676},\"489\":{\"date\":\"2019-04-07\",\"available\":\"t\",\"count\":2956},\"490\":{\"date\":\"2019-04-08\",\"available\":\"f\",\"count\":3677},\"491\":{\"date\":\"2019-04-08\",\"available\":\"t\",\"count\":2955},\"492\":{\"date\":\"2019-04-09\",\"available\":\"f\",\"count\":3682},\"493\":{\"date\":\"2019-04-09\",\"available\":\"t\",\"count\":2950},\"494\":{\"date\":\"2019-04-10\",\"available\":\"f\",\"count\":3676},\"495\":{\"date\":\"2019-04-10\",\"available\":\"t\",\"count\":2956},\"496\":{\"date\":\"2019-04-11\",\"available\":\"f\",\"count\":3676},\"497\":{\"date\":\"2019-04-11\",\"available\":\"t\",\"count\":2956},\"498\":{\"date\":\"2019-04-12\",\"available\":\"f\",\"count\":3675},\"499\":{\"date\":\"2019-04-12\",\"available\":\"t\",\"count\":2957},\"500\":{\"date\":\"2019-04-13\",\"available\":\"f\",\"count\":3669},\"501\":{\"date\":\"2019-04-13\",\"available\":\"t\",\"count\":2963},\"502\":{\"date\":\"2019-04-14\",\"available\":\"f\",\"count\":3670},\"503\":{\"date\":\"2019-04-14\",\"available\":\"t\",\"count\":2962},\"504\":{\"date\":\"2019-04-15\",\"available\":\"f\",\"count\":3678},\"505\":{\"date\":\"2019-04-15\",\"available\":\"t\",\"count\":2954},\"506\":{\"date\":\"2019-04-16\",\"available\":\"f\",\"count\":3680},\"507\":{\"date\":\"2019-04-16\",\"available\":\"t\",\"count\":2952},\"508\":{\"date\":\"2019-04-17\",\"available\":\"f\",\"count\":3675},\"509\":{\"date\":\"2019-04-17\",\"available\":\"t\",\"count\":2957},\"510\":{\"date\":\"2019-04-18\",\"available\":\"f\",\"count\":3670},\"511\":{\"date\":\"2019-04-18\",\"available\":\"t\",\"count\":2962},\"512\":{\"date\":\"2019-04-19\",\"available\":\"f\",\"count\":3660},\"513\":{\"date\":\"2019-04-19\",\"available\":\"t\",\"count\":2972},\"514\":{\"date\":\"2019-04-20\",\"available\":\"f\",\"count\":3658},\"515\":{\"date\":\"2019-04-20\",\"available\":\"t\",\"count\":2974},\"516\":{\"date\":\"2019-04-21\",\"available\":\"f\",\"count\":3659},\"517\":{\"date\":\"2019-04-21\",\"available\":\"t\",\"count\":2973},\"518\":{\"date\":\"2019-04-22\",\"available\":\"f\",\"count\":3667},\"519\":{\"date\":\"2019-04-22\",\"available\":\"t\",\"count\":2965},\"520\":{\"date\":\"2019-04-23\",\"available\":\"f\",\"count\":3670},\"521\":{\"date\":\"2019-04-23\",\"available\":\"t\",\"count\":2962},\"522\":{\"date\":\"2019-04-24\",\"available\":\"f\",\"count\":3673},\"523\":{\"date\":\"2019-04-24\",\"available\":\"t\",\"count\":2959},\"524\":{\"date\":\"2019-04-25\",\"available\":\"f\",\"count\":3668},\"525\":{\"date\":\"2019-04-25\",\"available\":\"t\",\"count\":2964},\"526\":{\"date\":\"2019-04-26\",\"available\":\"f\",\"count\":3663},\"527\":{\"date\":\"2019-04-26\",\"available\":\"t\",\"count\":2969},\"528\":{\"date\":\"2019-04-27\",\"available\":\"f\",\"count\":3660},\"529\":{\"date\":\"2019-04-27\",\"available\":\"t\",\"count\":2972},\"530\":{\"date\":\"2019-04-28\",\"available\":\"f\",\"count\":3656},\"531\":{\"date\":\"2019-04-28\",\"available\":\"t\",\"count\":2976},\"532\":{\"date\":\"2019-04-29\",\"available\":\"f\",\"count\":3656},\"533\":{\"date\":\"2019-04-29\",\"available\":\"t\",\"count\":2976},\"534\":{\"date\":\"2019-04-30\",\"available\":\"f\",\"count\":3659},\"535\":{\"date\":\"2019-04-30\",\"available\":\"t\",\"count\":2973},\"536\":{\"date\":\"2019-05-01\",\"available\":\"f\",\"count\":3661},\"537\":{\"date\":\"2019-05-01\",\"available\":\"t\",\"count\":2971},\"538\":{\"date\":\"2019-05-02\",\"available\":\"f\",\"count\":3660},\"539\":{\"date\":\"2019-05-02\",\"available\":\"t\",\"count\":2972},\"540\":{\"date\":\"2019-05-03\",\"available\":\"f\",\"count\":3860},\"541\":{\"date\":\"2019-05-03\",\"available\":\"t\",\"count\":2772},\"542\":{\"date\":\"2019-05-04\",\"available\":\"f\",\"count\":3859},\"543\":{\"date\":\"2019-05-04\",\"available\":\"t\",\"count\":2773},\"544\":{\"date\":\"2019-05-05\",\"available\":\"f\",\"count\":3859},\"545\":{\"date\":\"2019-05-05\",\"available\":\"t\",\"count\":2773},\"546\":{\"date\":\"2019-05-06\",\"available\":\"f\",\"count\":3860},\"547\":{\"date\":\"2019-05-06\",\"available\":\"t\",\"count\":2772},\"548\":{\"date\":\"2019-05-07\",\"available\":\"f\",\"count\":3860},\"549\":{\"date\":\"2019-05-07\",\"available\":\"t\",\"count\":2772},\"550\":{\"date\":\"2019-05-08\",\"available\":\"f\",\"count\":3859},\"551\":{\"date\":\"2019-05-08\",\"available\":\"t\",\"count\":2773},\"552\":{\"date\":\"2019-05-09\",\"available\":\"f\",\"count\":3862},\"553\":{\"date\":\"2019-05-09\",\"available\":\"t\",\"count\":2770},\"554\":{\"date\":\"2019-05-10\",\"available\":\"f\",\"count\":3849},\"555\":{\"date\":\"2019-05-10\",\"available\":\"t\",\"count\":2783},\"556\":{\"date\":\"2019-05-11\",\"available\":\"f\",\"count\":3851},\"557\":{\"date\":\"2019-05-11\",\"available\":\"t\",\"count\":2781},\"558\":{\"date\":\"2019-05-12\",\"available\":\"f\",\"count\":3848},\"559\":{\"date\":\"2019-05-12\",\"available\":\"t\",\"count\":2784},\"560\":{\"date\":\"2019-05-13\",\"available\":\"f\",\"count\":3845},\"561\":{\"date\":\"2019-05-13\",\"available\":\"t\",\"count\":2787},\"562\":{\"date\":\"2019-05-14\",\"available\":\"f\",\"count\":3849},\"563\":{\"date\":\"2019-05-14\",\"available\":\"t\",\"count\":2783},\"564\":{\"date\":\"2019-05-15\",\"available\":\"f\",\"count\":3850},\"565\":{\"date\":\"2019-05-15\",\"available\":\"t\",\"count\":2782},\"566\":{\"date\":\"2019-05-16\",\"available\":\"f\",\"count\":3854},\"567\":{\"date\":\"2019-05-16\",\"available\":\"t\",\"count\":2778},\"568\":{\"date\":\"2019-05-17\",\"available\":\"f\",\"count\":3860},\"569\":{\"date\":\"2019-05-17\",\"available\":\"t\",\"count\":2772},\"570\":{\"date\":\"2019-05-18\",\"available\":\"f\",\"count\":3859},\"571\":{\"date\":\"2019-05-18\",\"available\":\"t\",\"count\":2773},\"572\":{\"date\":\"2019-05-19\",\"available\":\"f\",\"count\":3853},\"573\":{\"date\":\"2019-05-19\",\"available\":\"t\",\"count\":2779},\"574\":{\"date\":\"2019-05-20\",\"available\":\"f\",\"count\":3849},\"575\":{\"date\":\"2019-05-20\",\"available\":\"t\",\"count\":2783},\"576\":{\"date\":\"2019-05-21\",\"available\":\"f\",\"count\":3849},\"577\":{\"date\":\"2019-05-21\",\"available\":\"t\",\"count\":2783},\"578\":{\"date\":\"2019-05-22\",\"available\":\"f\",\"count\":3853},\"579\":{\"date\":\"2019-05-22\",\"available\":\"t\",\"count\":2779},\"580\":{\"date\":\"2019-05-23\",\"available\":\"f\",\"count\":3853},\"581\":{\"date\":\"2019-05-23\",\"available\":\"t\",\"count\":2779},\"582\":{\"date\":\"2019-05-24\",\"available\":\"f\",\"count\":3851},\"583\":{\"date\":\"2019-05-24\",\"available\":\"t\",\"count\":2781},\"584\":{\"date\":\"2019-05-25\",\"available\":\"f\",\"count\":3849},\"585\":{\"date\":\"2019-05-25\",\"available\":\"t\",\"count\":2783},\"586\":{\"date\":\"2019-05-26\",\"available\":\"f\",\"count\":3849},\"587\":{\"date\":\"2019-05-26\",\"available\":\"t\",\"count\":2783},\"588\":{\"date\":\"2019-05-27\",\"available\":\"f\",\"count\":3848},\"589\":{\"date\":\"2019-05-27\",\"available\":\"t\",\"count\":2784},\"590\":{\"date\":\"2019-05-28\",\"available\":\"f\",\"count\":3850},\"591\":{\"date\":\"2019-05-28\",\"available\":\"t\",\"count\":2782},\"592\":{\"date\":\"2019-05-29\",\"available\":\"f\",\"count\":3848},\"593\":{\"date\":\"2019-05-29\",\"available\":\"t\",\"count\":2784},\"594\":{\"date\":\"2019-05-30\",\"available\":\"f\",\"count\":3847},\"595\":{\"date\":\"2019-05-30\",\"available\":\"t\",\"count\":2785},\"596\":{\"date\":\"2019-05-31\",\"available\":\"f\",\"count\":3835},\"597\":{\"date\":\"2019-05-31\",\"available\":\"t\",\"count\":2797},\"598\":{\"date\":\"2019-06-01\",\"available\":\"f\",\"count\":3837},\"599\":{\"date\":\"2019-06-01\",\"available\":\"t\",\"count\":2795},\"600\":{\"date\":\"2019-06-02\",\"available\":\"f\",\"count\":3840},\"601\":{\"date\":\"2019-06-02\",\"available\":\"t\",\"count\":2792},\"602\":{\"date\":\"2019-06-03\",\"available\":\"f\",\"count\":3843},\"603\":{\"date\":\"2019-06-03\",\"available\":\"t\",\"count\":2789},\"604\":{\"date\":\"2019-06-04\",\"available\":\"f\",\"count\":3846},\"605\":{\"date\":\"2019-06-04\",\"available\":\"t\",\"count\":2786},\"606\":{\"date\":\"2019-06-05\",\"available\":\"f\",\"count\":3843},\"607\":{\"date\":\"2019-06-05\",\"available\":\"t\",\"count\":2789},\"608\":{\"date\":\"2019-06-06\",\"available\":\"f\",\"count\":3841},\"609\":{\"date\":\"2019-06-06\",\"available\":\"t\",\"count\":2791},\"610\":{\"date\":\"2019-06-07\",\"available\":\"f\",\"count\":3843},\"611\":{\"date\":\"2019-06-07\",\"available\":\"t\",\"count\":2789},\"612\":{\"date\":\"2019-06-08\",\"available\":\"f\",\"count\":3840},\"613\":{\"date\":\"2019-06-08\",\"available\":\"t\",\"count\":2792},\"614\":{\"date\":\"2019-06-09\",\"available\":\"f\",\"count\":3838},\"615\":{\"date\":\"2019-06-09\",\"available\":\"t\",\"count\":2794},\"616\":{\"date\":\"2019-06-10\",\"available\":\"f\",\"count\":3833},\"617\":{\"date\":\"2019-06-10\",\"available\":\"t\",\"count\":2799},\"618\":{\"date\":\"2019-06-11\",\"available\":\"f\",\"count\":3834},\"619\":{\"date\":\"2019-06-11\",\"available\":\"t\",\"count\":2798},\"620\":{\"date\":\"2019-06-12\",\"available\":\"f\",\"count\":3836},\"621\":{\"date\":\"2019-06-12\",\"available\":\"t\",\"count\":2796},\"622\":{\"date\":\"2019-06-13\",\"available\":\"f\",\"count\":3836},\"623\":{\"date\":\"2019-06-13\",\"available\":\"t\",\"count\":2796},\"624\":{\"date\":\"2019-06-14\",\"available\":\"f\",\"count\":3834},\"625\":{\"date\":\"2019-06-14\",\"available\":\"t\",\"count\":2798},\"626\":{\"date\":\"2019-06-15\",\"available\":\"f\",\"count\":3838},\"627\":{\"date\":\"2019-06-15\",\"available\":\"t\",\"count\":2794},\"628\":{\"date\":\"2019-06-16\",\"available\":\"f\",\"count\":3835},\"629\":{\"date\":\"2019-06-16\",\"available\":\"t\",\"count\":2797},\"630\":{\"date\":\"2019-06-17\",\"available\":\"f\",\"count\":3845},\"631\":{\"date\":\"2019-06-17\",\"available\":\"t\",\"count\":2787},\"632\":{\"date\":\"2019-06-18\",\"available\":\"f\",\"count\":3846},\"633\":{\"date\":\"2019-06-18\",\"available\":\"t\",\"count\":2786},\"634\":{\"date\":\"2019-06-19\",\"available\":\"f\",\"count\":3839},\"635\":{\"date\":\"2019-06-19\",\"available\":\"t\",\"count\":2793},\"636\":{\"date\":\"2019-06-20\",\"available\":\"f\",\"count\":3840},\"637\":{\"date\":\"2019-06-20\",\"available\":\"t\",\"count\":2792},\"638\":{\"date\":\"2019-06-21\",\"available\":\"f\",\"count\":3837},\"639\":{\"date\":\"2019-06-21\",\"available\":\"t\",\"count\":2795},\"640\":{\"date\":\"2019-06-22\",\"available\":\"f\",\"count\":3835},\"641\":{\"date\":\"2019-06-22\",\"available\":\"t\",\"count\":2797},\"642\":{\"date\":\"2019-06-23\",\"available\":\"f\",\"count\":3829},\"643\":{\"date\":\"2019-06-23\",\"available\":\"t\",\"count\":2803},\"644\":{\"date\":\"2019-06-24\",\"available\":\"f\",\"count\":3829},\"645\":{\"date\":\"2019-06-24\",\"available\":\"t\",\"count\":2803},\"646\":{\"date\":\"2019-06-25\",\"available\":\"f\",\"count\":3830},\"647\":{\"date\":\"2019-06-25\",\"available\":\"t\",\"count\":2802},\"648\":{\"date\":\"2019-06-26\",\"available\":\"f\",\"count\":3831},\"649\":{\"date\":\"2019-06-26\",\"available\":\"t\",\"count\":2801},\"650\":{\"date\":\"2019-06-27\",\"available\":\"f\",\"count\":3827},\"651\":{\"date\":\"2019-06-27\",\"available\":\"t\",\"count\":2805},\"652\":{\"date\":\"2019-06-28\",\"available\":\"f\",\"count\":3825},\"653\":{\"date\":\"2019-06-28\",\"available\":\"t\",\"count\":2807},\"654\":{\"date\":\"2019-06-29\",\"available\":\"f\",\"count\":3823},\"655\":{\"date\":\"2019-06-29\",\"available\":\"t\",\"count\":2809},\"656\":{\"date\":\"2019-06-30\",\"available\":\"f\",\"count\":3817},\"657\":{\"date\":\"2019-06-30\",\"available\":\"t\",\"count\":2815},\"658\":{\"date\":\"2019-07-01\",\"available\":\"f\",\"count\":3822},\"659\":{\"date\":\"2019-07-01\",\"available\":\"t\",\"count\":2810},\"660\":{\"date\":\"2019-07-02\",\"available\":\"f\",\"count\":3821},\"661\":{\"date\":\"2019-07-02\",\"available\":\"t\",\"count\":2811},\"662\":{\"date\":\"2019-07-03\",\"available\":\"f\",\"count\":3823},\"663\":{\"date\":\"2019-07-03\",\"available\":\"t\",\"count\":2809},\"664\":{\"date\":\"2019-07-04\",\"available\":\"f\",\"count\":3823},\"665\":{\"date\":\"2019-07-04\",\"available\":\"t\",\"count\":2809},\"666\":{\"date\":\"2019-07-05\",\"available\":\"f\",\"count\":3822},\"667\":{\"date\":\"2019-07-05\",\"available\":\"t\",\"count\":2810},\"668\":{\"date\":\"2019-07-06\",\"available\":\"f\",\"count\":3822},\"669\":{\"date\":\"2019-07-06\",\"available\":\"t\",\"count\":2810},\"670\":{\"date\":\"2019-07-07\",\"available\":\"f\",\"count\":3819},\"671\":{\"date\":\"2019-07-07\",\"available\":\"t\",\"count\":2813},\"672\":{\"date\":\"2019-07-08\",\"available\":\"f\",\"count\":3820},\"673\":{\"date\":\"2019-07-08\",\"available\":\"t\",\"count\":2812},\"674\":{\"date\":\"2019-07-09\",\"available\":\"f\",\"count\":3824},\"675\":{\"date\":\"2019-07-09\",\"available\":\"t\",\"count\":2808},\"676\":{\"date\":\"2019-07-10\",\"available\":\"f\",\"count\":3823},\"677\":{\"date\":\"2019-07-10\",\"available\":\"t\",\"count\":2809},\"678\":{\"date\":\"2019-07-11\",\"available\":\"f\",\"count\":3826},\"679\":{\"date\":\"2019-07-11\",\"available\":\"t\",\"count\":2806},\"680\":{\"date\":\"2019-07-12\",\"available\":\"f\",\"count\":3824},\"681\":{\"date\":\"2019-07-12\",\"available\":\"t\",\"count\":2808},\"682\":{\"date\":\"2019-07-13\",\"available\":\"f\",\"count\":3833},\"683\":{\"date\":\"2019-07-13\",\"available\":\"t\",\"count\":2799},\"684\":{\"date\":\"2019-07-14\",\"available\":\"f\",\"count\":3834},\"685\":{\"date\":\"2019-07-14\",\"available\":\"t\",\"count\":2798},\"686\":{\"date\":\"2019-07-15\",\"available\":\"f\",\"count\":3835},\"687\":{\"date\":\"2019-07-15\",\"available\":\"t\",\"count\":2797},\"688\":{\"date\":\"2019-07-16\",\"available\":\"f\",\"count\":3834},\"689\":{\"date\":\"2019-07-16\",\"available\":\"t\",\"count\":2798},\"690\":{\"date\":\"2019-07-17\",\"available\":\"f\",\"count\":3832},\"691\":{\"date\":\"2019-07-17\",\"available\":\"t\",\"count\":2800},\"692\":{\"date\":\"2019-07-18\",\"available\":\"f\",\"count\":3824},\"693\":{\"date\":\"2019-07-18\",\"available\":\"t\",\"count\":2808},\"694\":{\"date\":\"2019-07-19\",\"available\":\"f\",\"count\":3824},\"695\":{\"date\":\"2019-07-19\",\"available\":\"t\",\"count\":2808},\"696\":{\"date\":\"2019-07-20\",\"available\":\"f\",\"count\":3822},\"697\":{\"date\":\"2019-07-20\",\"available\":\"t\",\"count\":2810},\"698\":{\"date\":\"2019-07-21\",\"available\":\"f\",\"count\":3822},\"699\":{\"date\":\"2019-07-21\",\"available\":\"t\",\"count\":2810},\"700\":{\"date\":\"2019-07-22\",\"available\":\"f\",\"count\":3822},\"701\":{\"date\":\"2019-07-22\",\"available\":\"t\",\"count\":2810},\"702\":{\"date\":\"2019-07-23\",\"available\":\"f\",\"count\":3822},\"703\":{\"date\":\"2019-07-23\",\"available\":\"t\",\"count\":2810},\"704\":{\"date\":\"2019-07-24\",\"available\":\"f\",\"count\":3822},\"705\":{\"date\":\"2019-07-24\",\"available\":\"t\",\"count\":2810},\"706\":{\"date\":\"2019-07-25\",\"available\":\"f\",\"count\":3819},\"707\":{\"date\":\"2019-07-25\",\"available\":\"t\",\"count\":2813},\"708\":{\"date\":\"2019-07-26\",\"available\":\"f\",\"count\":3818},\"709\":{\"date\":\"2019-07-26\",\"available\":\"t\",\"count\":2814},\"710\":{\"date\":\"2019-07-27\",\"available\":\"f\",\"count\":3815},\"711\":{\"date\":\"2019-07-27\",\"available\":\"t\",\"count\":2817},\"712\":{\"date\":\"2019-07-28\",\"available\":\"f\",\"count\":3815},\"713\":{\"date\":\"2019-07-28\",\"available\":\"t\",\"count\":2817},\"714\":{\"date\":\"2019-07-29\",\"available\":\"f\",\"count\":3811},\"715\":{\"date\":\"2019-07-29\",\"available\":\"t\",\"count\":2821},\"716\":{\"date\":\"2019-07-30\",\"available\":\"f\",\"count\":3808},\"717\":{\"date\":\"2019-07-30\",\"available\":\"t\",\"count\":2824},\"718\":{\"date\":\"2019-07-31\",\"available\":\"f\",\"count\":3807},\"719\":{\"date\":\"2019-07-31\",\"available\":\"t\",\"count\":2825},\"720\":{\"date\":\"2019-08-01\",\"available\":\"f\",\"count\":3800},\"721\":{\"date\":\"2019-08-01\",\"available\":\"t\",\"count\":2832},\"722\":{\"date\":\"2019-08-02\",\"available\":\"f\",\"count\":3795},\"723\":{\"date\":\"2019-08-02\",\"available\":\"t\",\"count\":2837},\"724\":{\"date\":\"2019-08-03\",\"available\":\"f\",\"count\":3793},\"725\":{\"date\":\"2019-08-03\",\"available\":\"t\",\"count\":2839},\"726\":{\"date\":\"2019-08-04\",\"available\":\"f\",\"count\":3794},\"727\":{\"date\":\"2019-08-04\",\"available\":\"t\",\"count\":2838},\"728\":{\"date\":\"2019-08-05\",\"available\":\"f\",\"count\":3904},\"729\":{\"date\":\"2019-08-05\",\"available\":\"t\",\"count\":2728}}'"
      ]
     },
     "execution_count": 52,
     "metadata": {},
     "output_type": "execute_result"
    }
   ],
   "source": [
    "grouped.to_json(orient='index')"
   ]
  },
  {
   "cell_type": "code",
   "execution_count": null,
   "metadata": {},
   "outputs": [],
   "source": []
  }
 ],
 "metadata": {
  "kernelspec": {
   "display_name": "Python 3",
   "language": "python",
   "name": "python3"
  },
  "language_info": {
   "codemirror_mode": {
    "name": "ipython",
    "version": 3
   },
   "file_extension": ".py",
   "mimetype": "text/x-python",
   "name": "python",
   "nbconvert_exporter": "python",
   "pygments_lexer": "ipython3",
   "version": "3.6.4"
  }
 },
 "nbformat": 4,
 "nbformat_minor": 2
}
