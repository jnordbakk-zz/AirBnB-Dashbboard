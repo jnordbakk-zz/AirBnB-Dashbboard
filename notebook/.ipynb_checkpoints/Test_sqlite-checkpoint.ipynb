{
 "cells": [
  {
   "cell_type": "code",
   "execution_count": 1,
   "metadata": {},
   "outputs": [],
   "source": [
    "import os\n",
    "import pandas as pd\n",
    "# Dependencies\n",
    "# ----------------------------------\n",
    "# Imports the method used for connecting to DBs\n",
    "from sqlalchemy import create_engine, inspect\n",
    "\n",
    "# Imports the methods needed to abstract classes into tables\n",
    "from sqlalchemy.ext.declarative import declarative_base\n",
    "\n",
    "# Allow us to declare column types\n",
    "from sqlalchemy import Column, Integer, String, Float, Boolean \n",
    "\n",
    "from sqlalchemy.orm import Session\n",
    "\n",
    "from sqlalchemy.ext.automap import automap_base\n",
    "\n",
    "# PyMySQL \n",
    "import pymysql\n",
    "pymysql.install_as_MySQLdb()"
   ]
  },
  {
   "cell_type": "code",
   "execution_count": 2,
   "metadata": {},
   "outputs": [],
   "source": [
    "Base = declarative_base()\n",
    "engine = create_engine(\"sqlite:///../Data/airbnb.sqlite\")\n",
    "Base.metadata.create_all(engine)\n"
   ]
  },
  {
   "cell_type": "code",
   "execution_count": 3,
   "metadata": {},
   "outputs": [
    {
     "data": {
      "text/plain": [
       "[(6632,)]"
      ]
     },
     "execution_count": 3,
     "metadata": {},
     "output_type": "execute_result"
    }
   ],
   "source": [
    "engine.execute(\"SELECT count(*) FROM listings\").fetchall()"
   ]
  },
  {
   "cell_type": "code",
   "execution_count": 4,
   "metadata": {},
   "outputs": [
    {
     "data": {
      "text/plain": [
       "[(1, 958.0, 'https://www.airbnb.com/rooms/958', 'Bright, Modern Garden Unit - 1BR/1B', 'https://a0.muscache.com/im/pictures/51332160/0fa5e18c_original.jpg?aki_policy=large', 'Holly', '92%', 't', 't', 'https://a0.muscache.com/im/pictures/efdad96a-3efc-4bc2-bdc9-f69740a5a818.jpg?aki_policy=profile_small', 'https://a0.muscache.com/im/pictures/efdad96a-3efc-4bc2-bdc9-f69740a5a818.jpg?aki_policy=profile_x_medium', 'Duboce Triangle', 'Apartment', 1.0, 1.0, '$170.00 ', '$1,120.00 ', '$4,200.00 ', 122.0, -122.4338563, 37.76931038, 152.0, 97.0, 1.38),\n",
       " (2, 5858.0, 'https://www.airbnb.com/rooms/5858', 'Creative Sanctuary', 'https://a0.muscache.com/im/pictures/17714/3a7aea10_original.jpg?aki_policy=large', 'Philip And Tania', '100%', 'f', 't', 'https://a0.muscache.com/im/users/8904/profile_pic/1283840786/original.jpg?aki_policy=profile_small', 'https://a0.muscache.com/im/users/8904/profile_pic/1283840786/original.jpg?aki_policy=profile_x_medium', 'Bernal Heights', 'Apartment', 2.0, 1.0, '$235.00 ', '$1,600.00 ', '$5,500.00 ', 365.0, -122.4210179, 37.74511233, 112.0, 98.0, 0.99)]"
      ]
     },
     "execution_count": 4,
     "metadata": {},
     "output_type": "execute_result"
    }
   ],
   "source": [
    "engine.execute(\"SELECT * FROM listings limit 2\").fetchall()"
   ]
  },
  {
   "cell_type": "code",
   "execution_count": 5,
   "metadata": {},
   "outputs": [
    {
     "data": {
      "text/plain": [
       "[(-122.4338563, 37.76931038),\n",
       " (-122.4210179, 37.74511233),\n",
       " (-122.45250459999998, 37.7666896),\n",
       " (-122.451828, 37.76487219),\n",
       " (-122.4363737, 37.77524859)]"
      ]
     },
     "execution_count": 5,
     "metadata": {},
     "output_type": "execute_result"
    }
   ],
   "source": [
    "engine.execute(\"Select longitude, latitude from listings limit 5\").fetchall()"
   ]
  },
  {
   "cell_type": "code",
   "execution_count": 6,
   "metadata": {},
   "outputs": [],
   "source": [
    "engine = create_engine(\"sqlite:///../Data/airbnb.sqlite\")\n",
    "inspector = inspect(engine)"
   ]
  },
  {
   "cell_type": "code",
   "execution_count": 7,
   "metadata": {},
   "outputs": [
    {
     "data": {
      "text/plain": [
       "['listings']"
      ]
     },
     "execution_count": 7,
     "metadata": {},
     "output_type": "execute_result"
    }
   ],
   "source": [
    "inspector.get_table_names()"
   ]
  },
  {
   "cell_type": "code",
   "execution_count": 8,
   "metadata": {},
   "outputs": [
    {
     "name": "stdout",
     "output_type": "stream",
     "text": [
      "index BIGINT\n",
      "id FLOAT\n",
      "listing_url TEXT\n",
      "name TEXT\n",
      "picture_url TEXT\n",
      "host_name TEXT\n",
      "host_response_rate TEXT\n",
      "host_is_superhost TEXT\n",
      "host_has_profile_pic TEXT\n",
      "host_thumbnail_url TEXT\n",
      "host_picture_url TEXT\n",
      "neighbourhood TEXT\n",
      "property_type TEXT\n",
      "bedrooms FLOAT\n",
      "bathrooms FLOAT\n",
      "price TEXT\n",
      "weekly_price TEXT\n",
      "monthly_price TEXT\n",
      "availability_365 FLOAT\n",
      "longitude FLOAT\n",
      "latitude FLOAT\n",
      "number_of_reviews FLOAT\n",
      "review_scores_rating FLOAT\n",
      "reviews_per_month FLOAT\n"
     ]
    }
   ],
   "source": [
    "columns = inspector.get_columns('listings')\n",
    "for column in columns:\n",
    "    print(column[\"name\"], column[\"type\"])"
   ]
  },
  {
   "cell_type": "code",
   "execution_count": 9,
   "metadata": {},
   "outputs": [],
   "source": [
    "# Sets an object to utilize the default declarative base in SQL Alchemy\n",
    "# Base = declarative_base()\n",
    "\n",
    "# Creates Classes which will serve as the anchor points for our Tables\n",
    "# class Airbnb(Base):\n",
    "#     __tablename__ = 'listings'\n",
    "#     id = Column(Integer,Primary_key = True)\n",
    "#     listing_url = Column(String(255))\n",
    "#     name = Column(String(255))\n",
    "#     picture_url = Column(String(255))\n",
    "#     host_name = Column(String(255))\n",
    "#     host_response = Column(String(255))\n",
    "#     host_is_superhost = Column(Boolean)\n",
    "#     host_has_profile_pic = Column(Boolean)\n",
    "#     host_thumbnail_url = Column(String(255))\n",
    "#     host_picture_url = Column(String(255))\n",
    "#     neighbourhood = Column(String(255))\n",
    "#     property_type = Column(String(255))\n",
    "#     bedrooms = Column(Integer)\n",
    "#     bathrooms = Column(Float)\n",
    "#     price = Column(Float)\n",
    "#     weekly_price = Column(Float)\n",
    "#     monthly_price = Column(Float)\n",
    "#     availability_365 = Column(Integer)\n",
    "#     longitude = Column(Float)\n",
    "#     latitude = Column(Float)\n",
    "#     number_of_reviews = Column(Integer)\n",
    "#     review_scores_rating = Column(Integer)\n",
    "#     reviews_per_month = Column(Float)"
   ]
  },
  {
   "cell_type": "code",
   "execution_count": 11,
   "metadata": {},
   "outputs": [],
   "source": [
    "results = engine.execute(\"SELECT * FROM listings limit 3\").fetchall()"
   ]
  },
  {
   "cell_type": "code",
   "execution_count": 12,
   "metadata": {},
   "outputs": [
    {
     "data": {
      "text/plain": [
       "[(1, 958.0, 'https://www.airbnb.com/rooms/958', 'Bright, Modern Garden Unit - 1BR/1B', 'https://a0.muscache.com/im/pictures/51332160/0fa5e18c_original.jpg?aki_policy=large', 'Holly', '92%', 't', 't', 'https://a0.muscache.com/im/pictures/efdad96a-3efc-4bc2-bdc9-f69740a5a818.jpg?aki_policy=profile_small', 'https://a0.muscache.com/im/pictures/efdad96a-3efc-4bc2-bdc9-f69740a5a818.jpg?aki_policy=profile_x_medium', 'Duboce Triangle', 'Apartment', 1.0, 1.0, '$170.00 ', '$1,120.00 ', '$4,200.00 ', 122.0, -122.4338563, 37.76931038, 152.0, 97.0, 1.38),\n",
       " (2, 5858.0, 'https://www.airbnb.com/rooms/5858', 'Creative Sanctuary', 'https://a0.muscache.com/im/pictures/17714/3a7aea10_original.jpg?aki_policy=large', 'Philip And Tania', '100%', 'f', 't', 'https://a0.muscache.com/im/users/8904/profile_pic/1283840786/original.jpg?aki_policy=profile_small', 'https://a0.muscache.com/im/users/8904/profile_pic/1283840786/original.jpg?aki_policy=profile_x_medium', 'Bernal Heights', 'Apartment', 2.0, 1.0, '$235.00 ', '$1,600.00 ', '$5,500.00 ', 365.0, -122.4210179, 37.74511233, 112.0, 98.0, 0.99),\n",
       " (3, 7918.0, 'https://www.airbnb.com/rooms/7918', 'A Friendly Room - UCSF/USF - San Francisco', 'https://a0.muscache.com/im/pictures/26356/8030652f_original.jpg?aki_policy=large', 'Aaron', '100%', 'f', 't', 'https://a0.muscache.com/im/users/21994/profile_pic/1428380894/original.jpg?aki_policy=profile_small', 'https://a0.muscache.com/im/users/21994/profile_pic/1428380894/original.jpg?aki_policy=profile_x_medium', 'Cole Valley', 'Apartment', 1.0, 4.0, '$65.00 ', '$485.00 ', '$1,685.00 ', 365.0, -122.45250459999998, 37.7666896, 17.0, 85.0, 0.16)]"
      ]
     },
     "execution_count": 12,
     "metadata": {},
     "output_type": "execute_result"
    }
   ],
   "source": [
    "results"
   ]
  },
  {
   "cell_type": "code",
   "execution_count": 13,
   "metadata": {},
   "outputs": [],
   "source": [
    "df = pd.DataFrame(results)"
   ]
  },
  {
   "cell_type": "code",
   "execution_count": 19,
   "metadata": {},
   "outputs": [],
   "source": [
    "df_new = df.rename(columns={\n",
    "    0: \"index\",\n",
    "    1: \"id\"\n",
    "})"
   ]
  },
  {
   "cell_type": "code",
   "execution_count": 20,
   "metadata": {},
   "outputs": [
    {
     "data": {
      "text/html": [
       "<div>\n",
       "<style scoped>\n",
       "    .dataframe tbody tr th:only-of-type {\n",
       "        vertical-align: middle;\n",
       "    }\n",
       "\n",
       "    .dataframe tbody tr th {\n",
       "        vertical-align: top;\n",
       "    }\n",
       "\n",
       "    .dataframe thead th {\n",
       "        text-align: right;\n",
       "    }\n",
       "</style>\n",
       "<table border=\"1\" class=\"dataframe\">\n",
       "  <thead>\n",
       "    <tr style=\"text-align: right;\">\n",
       "      <th></th>\n",
       "      <th>0</th>\n",
       "      <th>1</th>\n",
       "      <th>2</th>\n",
       "      <th>3</th>\n",
       "      <th>4</th>\n",
       "      <th>5</th>\n",
       "      <th>6</th>\n",
       "      <th>7</th>\n",
       "      <th>8</th>\n",
       "      <th>9</th>\n",
       "      <th>...</th>\n",
       "      <th>14</th>\n",
       "      <th>15</th>\n",
       "      <th>16</th>\n",
       "      <th>17</th>\n",
       "      <th>18</th>\n",
       "      <th>19</th>\n",
       "      <th>20</th>\n",
       "      <th>21</th>\n",
       "      <th>22</th>\n",
       "      <th>23</th>\n",
       "    </tr>\n",
       "  </thead>\n",
       "  <tbody>\n",
       "    <tr>\n",
       "      <th>0</th>\n",
       "      <td>1</td>\n",
       "      <td>958.0</td>\n",
       "      <td>https://www.airbnb.com/rooms/958</td>\n",
       "      <td>Bright, Modern Garden Unit - 1BR/1B</td>\n",
       "      <td>https://a0.muscache.com/im/pictures/51332160/0...</td>\n",
       "      <td>Holly</td>\n",
       "      <td>92%</td>\n",
       "      <td>t</td>\n",
       "      <td>t</td>\n",
       "      <td>https://a0.muscache.com/im/pictures/efdad96a-3...</td>\n",
       "      <td>...</td>\n",
       "      <td>1.0</td>\n",
       "      <td>$170.00</td>\n",
       "      <td>$1,120.00</td>\n",
       "      <td>$4,200.00</td>\n",
       "      <td>122.0</td>\n",
       "      <td>-122.433856</td>\n",
       "      <td>37.769310</td>\n",
       "      <td>152.0</td>\n",
       "      <td>97.0</td>\n",
       "      <td>1.38</td>\n",
       "    </tr>\n",
       "    <tr>\n",
       "      <th>1</th>\n",
       "      <td>2</td>\n",
       "      <td>5858.0</td>\n",
       "      <td>https://www.airbnb.com/rooms/5858</td>\n",
       "      <td>Creative Sanctuary</td>\n",
       "      <td>https://a0.muscache.com/im/pictures/17714/3a7a...</td>\n",
       "      <td>Philip And Tania</td>\n",
       "      <td>100%</td>\n",
       "      <td>f</td>\n",
       "      <td>t</td>\n",
       "      <td>https://a0.muscache.com/im/users/8904/profile_...</td>\n",
       "      <td>...</td>\n",
       "      <td>1.0</td>\n",
       "      <td>$235.00</td>\n",
       "      <td>$1,600.00</td>\n",
       "      <td>$5,500.00</td>\n",
       "      <td>365.0</td>\n",
       "      <td>-122.421018</td>\n",
       "      <td>37.745112</td>\n",
       "      <td>112.0</td>\n",
       "      <td>98.0</td>\n",
       "      <td>0.99</td>\n",
       "    </tr>\n",
       "    <tr>\n",
       "      <th>2</th>\n",
       "      <td>3</td>\n",
       "      <td>7918.0</td>\n",
       "      <td>https://www.airbnb.com/rooms/7918</td>\n",
       "      <td>A Friendly Room - UCSF/USF - San Francisco</td>\n",
       "      <td>https://a0.muscache.com/im/pictures/26356/8030...</td>\n",
       "      <td>Aaron</td>\n",
       "      <td>100%</td>\n",
       "      <td>f</td>\n",
       "      <td>t</td>\n",
       "      <td>https://a0.muscache.com/im/users/21994/profile...</td>\n",
       "      <td>...</td>\n",
       "      <td>4.0</td>\n",
       "      <td>$65.00</td>\n",
       "      <td>$485.00</td>\n",
       "      <td>$1,685.00</td>\n",
       "      <td>365.0</td>\n",
       "      <td>-122.452505</td>\n",
       "      <td>37.766690</td>\n",
       "      <td>17.0</td>\n",
       "      <td>85.0</td>\n",
       "      <td>0.16</td>\n",
       "    </tr>\n",
       "  </tbody>\n",
       "</table>\n",
       "<p>3 rows × 24 columns</p>\n",
       "</div>"
      ],
      "text/plain": [
       "   0       1                                  2   \\\n",
       "0   1   958.0   https://www.airbnb.com/rooms/958   \n",
       "1   2  5858.0  https://www.airbnb.com/rooms/5858   \n",
       "2   3  7918.0  https://www.airbnb.com/rooms/7918   \n",
       "\n",
       "                                           3   \\\n",
       "0         Bright, Modern Garden Unit - 1BR/1B   \n",
       "1                          Creative Sanctuary   \n",
       "2  A Friendly Room - UCSF/USF - San Francisco   \n",
       "\n",
       "                                                  4                 5     6   \\\n",
       "0  https://a0.muscache.com/im/pictures/51332160/0...             Holly   92%   \n",
       "1  https://a0.muscache.com/im/pictures/17714/3a7a...  Philip And Tania  100%   \n",
       "2  https://a0.muscache.com/im/pictures/26356/8030...             Aaron  100%   \n",
       "\n",
       "  7  8                                                  9   ...    14  \\\n",
       "0  t  t  https://a0.muscache.com/im/pictures/efdad96a-3...  ...   1.0   \n",
       "1  f  t  https://a0.muscache.com/im/users/8904/profile_...  ...   1.0   \n",
       "2  f  t  https://a0.muscache.com/im/users/21994/profile...  ...   4.0   \n",
       "\n",
       "         15          16          17     18          19         20     21  \\\n",
       "0  $170.00   $1,120.00   $4,200.00   122.0 -122.433856  37.769310  152.0   \n",
       "1  $235.00   $1,600.00   $5,500.00   365.0 -122.421018  37.745112  112.0   \n",
       "2   $65.00     $485.00   $1,685.00   365.0 -122.452505  37.766690   17.0   \n",
       "\n",
       "     22    23  \n",
       "0  97.0  1.38  \n",
       "1  98.0  0.99  \n",
       "2  85.0  0.16  \n",
       "\n",
       "[3 rows x 24 columns]"
      ]
     },
     "execution_count": 20,
     "metadata": {},
     "output_type": "execute_result"
    }
   ],
   "source": [
    "df.head()"
   ]
  },
  {
   "cell_type": "code",
   "execution_count": null,
   "metadata": {},
   "outputs": [],
   "source": []
  }
 ],
 "metadata": {
  "kernelspec": {
   "display_name": "Python 3",
   "language": "python",
   "name": "python3"
  },
  "language_info": {
   "codemirror_mode": {
    "name": "ipython",
    "version": 3
   },
   "file_extension": ".py",
   "mimetype": "text/x-python",
   "name": "python",
   "nbconvert_exporter": "python",
   "pygments_lexer": "ipython3",
   "version": "3.6.4"
  }
 },
 "nbformat": 4,
 "nbformat_minor": 2
}
