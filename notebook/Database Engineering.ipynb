{
 "cells": [
  {
   "cell_type": "code",
   "execution_count": 7,
   "metadata": {},
   "outputs": [],
   "source": [
    "import os\n",
    "import pandas as pd\n",
    "# Dependencies\n",
    "# ----------------------------------\n",
    "# Imports the method used for connecting to DBs\n",
    "from sqlalchemy import create_engine, inspect\n",
    "\n",
    "# Imports the methods needed to abstract classes into tables\n",
    "from sqlalchemy.ext.declarative import declarative_base\n",
    "\n",
    "# Allow us to declare column types\n",
    "from sqlalchemy import Column, Integer, String, Float, Boolean \n",
    "\n",
    "from sqlalchemy.orm import Session\n",
    "\n",
    "# PyMySQL \n",
    "import pymysql\n",
    "pymysql.install_as_MySQLdb()"
   ]
  },
  {
   "cell_type": "code",
   "execution_count": 8,
   "metadata": {},
   "outputs": [
    {
     "name": "stdout",
     "output_type": "stream",
     "text": [
      "     id                        listing_url  \\\n",
      "0   958   https://www.airbnb.com/rooms/958   \n",
      "1  5858  https://www.airbnb.com/rooms/5858   \n",
      "2  7918  https://www.airbnb.com/rooms/7918   \n",
      "3  8142  https://www.airbnb.com/rooms/8142   \n",
      "4  8339  https://www.airbnb.com/rooms/8339   \n",
      "\n",
      "                                                name  \\\n",
      "0                Bright, Modern Garden Unit - 1BR/1B   \n",
      "1                                 Creative Sanctuary   \n",
      "2         A Friendly Room - UCSF/USF - San Francisco   \n",
      "3  Friendly Room Apt. Style -UCSF/USF - San Franc...   \n",
      "4                    Historic Alamo Square Victorian   \n",
      "\n",
      "                                         picture_url         host_name  \\\n",
      "0  https://a0.muscache.com/im/pictures/51332160/0...             Holly   \n",
      "1  https://a0.muscache.com/im/pictures/17714/3a7a...  Philip And Tania   \n",
      "2  https://a0.muscache.com/im/pictures/26356/8030...             Aaron   \n",
      "3  https://a0.muscache.com/im/pictures/27832/3b1f...             Aaron   \n",
      "4  https://a0.muscache.com/im/pictures/6f84a7c2-e...              Rosy   \n",
      "\n",
      "  host_response_rate host_is_superhost host_has_profile_pic  \\\n",
      "0                92%                 t                    t   \n",
      "1               100%                 f                    t   \n",
      "2               100%                 f                    t   \n",
      "3               100%                 f                    t   \n",
      "4               100%                 f                    t   \n",
      "\n",
      "                                  host_thumbnail_url  \\\n",
      "0  https://a0.muscache.com/im/pictures/efdad96a-3...   \n",
      "1  https://a0.muscache.com/im/users/8904/profile_...   \n",
      "2  https://a0.muscache.com/im/users/21994/profile...   \n",
      "3  https://a0.muscache.com/im/users/21994/profile...   \n",
      "4  https://a0.muscache.com/im/users/24215/profile...   \n",
      "\n",
      "                                    host_picture_url        ...          \\\n",
      "0  https://a0.muscache.com/im/pictures/efdad96a-3...        ...           \n",
      "1  https://a0.muscache.com/im/users/8904/profile_...        ...           \n",
      "2  https://a0.muscache.com/im/users/21994/profile...        ...           \n",
      "3  https://a0.muscache.com/im/users/21994/profile...        ...           \n",
      "4  https://a0.muscache.com/im/users/24215/profile...        ...           \n",
      "\n",
      "  bathrooms  price  weekly_price  monthly_price  availability_365   longitude  \\\n",
      "0       1.0  170.0        1120.0         4200.0               122 -122.433856   \n",
      "1       1.0  235.0        1600.0         5500.0               365 -122.421018   \n",
      "2       4.0   65.0         485.0         1685.0               365 -122.452505   \n",
      "3       4.0   65.0         490.0         1685.0               328 -122.451828   \n",
      "4       1.5  675.0           NaN            NaN                78 -122.436374   \n",
      "\n",
      "    latitude  number_of_reviews  review_scores_rating  reviews_per_month  \n",
      "0  37.769310                152                  97.0               1.38  \n",
      "1  37.745112                112                  98.0               0.99  \n",
      "2  37.766690                 17                  85.0               0.16  \n",
      "3  37.764872                  7                  91.0               0.15  \n",
      "4  37.775249                 26                  97.0               0.24  \n",
      "\n",
      "[5 rows x 23 columns]\n"
     ]
    }
   ],
   "source": [
    "listings_file = os.path.join('../Data','filtered_listings.csv')\n",
    "listings_df = pd.read_csv(listings_file, encoding='ISO-8859-1')\n",
    "#listings_df = listings_df.rename(columns={\n",
    "#    'prcp' : 'precipitation'\n",
    "#})\n",
    "#listings_df = listings_df.shift()[1:]\n",
    "print(listings_df.head())\n"
   ]
  },
  {
   "cell_type": "code",
   "execution_count": 9,
   "metadata": {},
   "outputs": [],
   "source": [
    "# Sets an object to utilize the default declarative base in SQL Alchemy\n",
    "# Base = declarative_base()\n",
    "\n",
    "# # Creates Classes which will serve as the anchor points for our Tables\n",
    "# class Airbnb(Base):\n",
    "#     __tablename__ = 'listings'\n",
    "#     index = Column(Integer,Primary_key = True)\n",
    "#     id = Column(Integer)\n",
    "#     listing_url = Column(String(255))\n",
    "#     name = Column(String(255))\n",
    "#     picture_url = Column(String(255))\n",
    "#     host_name = Column(String(255))\n",
    "#     host_response = Column(String(255))\n",
    "#     host_is_superhost = Column(Boolean)\n",
    "#     host_has_profile_pic = Column(Boolean)\n",
    "#     host_thumbnail_url = Column(String(255))\n",
    "#     host_picture_url = Column(String(255))\n",
    "#     neighbourhood = Column(String(255))\n",
    "#     property_type = Column(String(255))\n",
    "#     bedrooms = Column(Integer)\n",
    "#     bathrooms = Column(Float)\n",
    "#     price = Column(Float)\n",
    "#     weekly_price = Column(Float)\n",
    "#     monthly_price = Column(Float)\n",
    "#     availability_365 = Column(Integer)\n",
    "#     longitude = Column(Float)\n",
    "#     latitude = Column(Float)\n",
    "#     number_of_reviews = Column(Integer)\n",
    "#     review_scores_rating = Column(Integer)\n",
    "#     reviews_per_month = Column(Float)\n",
    "    "
   ]
  },
  {
   "cell_type": "code",
   "execution_count": 10,
   "metadata": {},
   "outputs": [],
   "source": [
    "engine = create_engine(\"sqlite:///../Data/airbnb.sqlite\")\n",
    "#Base.metadata.create_all(engine)\n"
   ]
  },
  {
   "cell_type": "code",
   "execution_count": 11,
   "metadata": {},
   "outputs": [],
   "source": [
    "listings_df.to_sql('listings', con = engine, if_exists='append', index=False)"
   ]
  },
  {
   "cell_type": "code",
   "execution_count": 12,
   "metadata": {},
   "outputs": [
    {
     "data": {
      "text/plain": [
       "[(958, 'https://www.airbnb.com/rooms/958', 'Bright, Modern Garden Unit - 1BR/1B', 'https://a0.muscache.com/im/pictures/51332160/0fa5e18c_original.jpg?aki_policy=large', 'Holly', '92%', 't', 't', 'https://a0.muscache.com/im/pictures/efdad96a-3efc-4bc2-bdc9-f69740a5a818.jpg?aki_policy=profile_small', 'https://a0.muscache.com/im/pictures/efdad96a-3efc-4bc2-bdc9-f69740a5a818.jpg?aki_policy=profile_x_medium', 'Duboce Triangle', 'Apartment', 1.0, 1.0, 170.0, 1120.0, 4200.0, 122, -122.4338563, 37.76931038, 152, 97.0, 1.38),\n",
       " (5858, 'https://www.airbnb.com/rooms/5858', 'Creative Sanctuary', 'https://a0.muscache.com/im/pictures/17714/3a7aea10_original.jpg?aki_policy=large', 'Philip And Tania', '100%', 'f', 't', 'https://a0.muscache.com/im/users/8904/profile_pic/1283840786/original.jpg?aki_policy=profile_small', 'https://a0.muscache.com/im/users/8904/profile_pic/1283840786/original.jpg?aki_policy=profile_x_medium', 'Bernal Heights', 'Apartment', 2.0, 1.0, 235.0, 1600.0, 5500.0, 365, -122.4210179, 37.74511233, 112, 98.0, 0.99)]"
      ]
     },
     "execution_count": 12,
     "metadata": {},
     "output_type": "execute_result"
    }
   ],
   "source": [
    "engine.execute(\"SELECT * FROM listings limit 2\").fetchall()"
   ]
  },
  {
   "cell_type": "code",
   "execution_count": null,
   "metadata": {},
   "outputs": [],
   "source": []
  },
  {
   "cell_type": "code",
   "execution_count": null,
   "metadata": {},
   "outputs": [],
   "source": []
  }
 ],
 "metadata": {
  "kernelspec": {
   "display_name": "Python 3",
   "language": "python",
   "name": "python3"
  },
  "language_info": {
   "codemirror_mode": {
    "name": "ipython",
    "version": 3
   },
   "file_extension": ".py",
   "mimetype": "text/x-python",
   "name": "python",
   "nbconvert_exporter": "python",
   "pygments_lexer": "ipython3",
   "version": "3.6.4"
  }
 },
 "nbformat": 4,
 "nbformat_minor": 2
}
